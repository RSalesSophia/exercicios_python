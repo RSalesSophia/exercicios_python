{
 "cells": [
  {
   "cell_type": "markdown",
   "metadata": {
    "id": "gdhdztk7j1ht"
   },
   "source": [
    "# Exercícios "
   ]
  },
  {
   "cell_type": "markdown",
   "metadata": {
    "id": "xmtoecbGjnpW"
   },
   "source": [
    "A entrega deverá ser feita na forma de arquivo \".zip\" ou \".gz\". Esse arquivo deve incluir os arquivos do seu projeto no VS Code."
   ]
  },
  {
   "cell_type": "markdown",
   "metadata": {
    "id": "uXyJpSeF8soA"
   },
   "source": [
    "### Módulos, classes e funções"
   ]
  },
  {
   "cell_type": "markdown",
   "metadata": {},
   "source": [
    "\n",
    "1- Faça uma função para calcular a média aritmética entre vários números.\n",
    "\n",
    "2- Faça uma função para calcular a média geométrica entre dois números.\n",
    "\n",
    "3- Faça uma função para calcular o fatorial de um número.\n",
    "\n",
    "4- Organize as funções acima em um módulo (pasta chamada `funcoes`) de um projeto Python no VS Code.\n",
    "\n",
    "5- Crie um arquivo `app.py` na raiz do projeto.\n",
    "\n",
    "6- No arquivo `app.py` desenvolva um código para interação com o usuário, questionando a operação que \n",
    "   deverá ser executada e suas entradas.  "
   ]
  }
 ],
 "metadata": {
  "language_info": {
   "name": "python"
  },
  "orig_nbformat": 4
 },
 "nbformat": 4,
 "nbformat_minor": 2
}
