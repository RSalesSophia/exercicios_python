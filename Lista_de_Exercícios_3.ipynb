{
  "nbformat": 4,
  "nbformat_minor": 0,
  "metadata": {
    "colab": {
      "name": "Lista de Exercícios 3.ipynb",
      "provenance": [],
      "collapsed_sections": []
    },
    "kernelspec": {
      "name": "python3",
      "display_name": "Python 3"
    },
    "language_info": {
      "name": "python"
    }
  },
  "cells": [
    {
      "cell_type": "markdown",
      "metadata": {
        "id": "2_UpPGTJazEA"
      },
      "source": [
        "**Exercício 1**"
      ]
    },
    {
      "cell_type": "code",
      "metadata": {
        "id": "uVQgMQo9a22y"
      },
      "source": [
        "prompt = int(input(\"Informe o total de permutas: \"))\n",
        "\n",
        "#Permuta inicial:\n",
        "origem = [\"A\",\"B\",\"C\"]\n",
        "\n",
        "for i in range(0,prompt):\n",
        "    tipo = int(input(\"Informe o tipo de permuta: \"))\n",
        "    if tipo == 1:\n",
        "        origem = [origem[2],origem[1], origem[0]]\n",
        "    if tipo == 2:\n",
        "        origem = [origem[0],origem[2], origem[1]]\n",
        "    if tipo == 3:\n",
        "        origem = [origem[1],origem[0], origem[2]]\n",
        "\n",
        "print(*origem)"
      ],
      "execution_count": null,
      "outputs": []
    },
    {
      "cell_type": "markdown",
      "metadata": {
        "id": "uDtyjer5xyOw"
      },
      "source": [
        "**Exercício 2**"
      ]
    },
    {
      "cell_type": "code",
      "metadata": {
        "id": "2YhEE_rZxvem"
      },
      "source": [
        "qtde = int(input(\"Total de funcionários: \"))\n",
        "\n",
        "\n",
        "l_tupla = []\n",
        "\n",
        "for i in range(qtde):\n",
        "    nome, prob = input(\"Funcionário e a probabilidade de corrupção em %: \").split() \n",
        "    prob = int(prob)\n",
        "    lista = [nome, prob]\n",
        "    tupla = tuple(lista)\n",
        "    l_tupla.append(tupla)\n",
        "\n",
        "ordem = sorted(l_tupla, key=lambda x: -x[1])\n",
        "\n",
        "pontos = [lis[1] for lis in ordem]\n",
        "pontos = [ int(x) for x in pontos]\n",
        "nomes = [z[0] for z in ordem]\n",
        "\n",
        "print(\"\\n\")\n",
        "print(\"Ranqueamento de prováveis corruptos:\")\n",
        "\n",
        "menores = []\n",
        "\n",
        "for q in range(len(nomes)):\n",
        "    if pontos[q] > 80:\n",
        "        print(nomes[q])\n",
        "    else:\n",
        "        menores.append(pontos[q])\n",
        "\n",
        "if len(menores) == 0:\n",
        "    print(\"Ninguém!\")"
      ],
      "execution_count": null,
      "outputs": []
    },
    {
      "cell_type": "markdown",
      "metadata": {
        "id": "Q0C95X56ditD"
      },
      "source": [
        "**Execício 3**"
      ]
    },
    {
      "cell_type": "code",
      "metadata": {
        "id": "duCz5muTdm0L"
      },
      "source": [
        "#Inputs\n",
        "\n",
        "c_1 = input(\"Informe as coordenadas do canto inferior esquerdo: \").split()\n",
        "c_2 = input(\"Informe as coordenadas do canto superior esquerdo: \").split()\n",
        "c_3 = input(\"Informe as coordenadas que você deseja depositar suas ovas: \").split()\n",
        "\n",
        "#Transformando os input's em números inteiros:\n",
        "\n",
        "c_1 = [int(x) for x in c_1]\n",
        "c_2 = [int(x) for x in c_2]\n",
        "c_3 = [int(x) for x in c_3]\n",
        "\n",
        "#Área segura ou não: \n",
        "\n",
        "if c_3[0] >= c_1[0] and c_3[0] <= c_2[0] and c_3[1] >= c_1[1] and c_3[1] <= c_2[1]: \n",
        "    print(\"Cuidado!\")\n",
        "else: \n",
        "    print(\"Seguro!\")"
      ],
      "execution_count": null,
      "outputs": []
    },
    {
      "cell_type": "markdown",
      "metadata": {
        "id": "H4tVTNyZKgMP"
      },
      "source": [
        "**Exercício 5**"
      ]
    },
    {
      "cell_type": "code",
      "metadata": {
        "id": "5gFHtAfOKi7h"
      },
      "source": [
        "#Ponto de origem\n",
        "origem = [0,0]\n",
        "\n",
        "#Entrada\n",
        "prompt = int(input(\"Informe o número de movimentos: \"))\n",
        "\n",
        "print(\"\\n\")\n",
        "\n",
        "#Distância de acordo com os movimentos\n",
        "for i in range(0,prompt):\n",
        "    direcao,passo = input(\"Informe a direção e quantidade de passos dada: \").split()\n",
        "    passo=int(passo)\n",
        "    if direcao.upper() == \"N\":\n",
        "        origem[1] = origem[1] + passo\n",
        "    if direcao.upper() == \"S\":\n",
        "        origem[1] = origem[1] - passo\n",
        "    if direcao.upper() == \"L\":\n",
        "        origem[0] = origem[0] + passo\n",
        "    if direcao.upper() == \"O\":\n",
        "        origem[0] = origem[0] - passo\n",
        "\n",
        "#Lista de direções\n",
        "leste = []\n",
        "oeste = []\n",
        "norte = []\n",
        "sul = []\n",
        "\n",
        "if origem[0] < 0:\n",
        "    leste.append(-origem[0])\n",
        "if origem[0] > 0:\n",
        "    oeste.append(origem[0])\n",
        "if origem[1] < 0:\n",
        "    norte.append(-origem[1])\n",
        "if origem[1] > 0:\n",
        "    sul.append(origem[1])\n",
        "\n",
        "#Unindo todas as direções\n",
        "todos = [norte, sul, leste, oeste]\n",
        "\n",
        "#Colocar 0 na direção que for igual a 0\n",
        "if len(norte) == 0:\n",
        "    norte.insert(0,0)\n",
        "\n",
        "if len(sul) == 0:\n",
        "    sul.insert(0,0)\n",
        "\n",
        "if len(leste) == 0:\n",
        "    leste.insert(0,0)\n",
        "\n",
        "if len(oeste) == 0:\n",
        "    oeste.insert(0,0)\n",
        "\n",
        "#Saída\n",
        "print(\"\\n\")\n",
        "print(\"Norte\", \"Sul\", \"Oeste\", \"Leste\", sep = \"\\t\")\n",
        "print(*norte, *sul, *leste, *oeste, sep = \"\\t\")"
      ],
      "execution_count": null,
      "outputs": []
    },
    {
      "cell_type": "markdown",
      "metadata": {
        "id": "JeVIYS42N0D5"
      },
      "source": [
        "**Exercício 6**"
      ]
    },
    {
      "cell_type": "code",
      "metadata": {
        "id": "HUhmFRKBN2uD"
      },
      "source": [
        "while True:\n",
        "    try:\n",
        "        prompt = int(input(\"Informe uma nota entre zero e dez: \"))\n",
        "    except ValueError:\n",
        "            print(\"Essa entrada não é válida. Apenas números são aceitos.\")\n",
        "            continue\n",
        "    if prompt >= 0  and prompt <= 10:\n",
        "        print(f\"O número informado foi {prompt}.\")\n",
        "        break    \n",
        "    else:\n",
        "        print(\"Esse número não está entre zero e dez.\")\n"
      ],
      "execution_count": null,
      "outputs": []
    },
    {
      "cell_type": "markdown",
      "metadata": {
        "id": "mWIfpLhBYolj"
      },
      "source": [
        "**Exercício 7:**"
      ]
    },
    {
      "cell_type": "code",
      "metadata": {
        "id": "nK7LEFHVYqrK"
      },
      "source": [
        "n = int(input(\"Informe um número não negativo: \"))\n",
        "\n",
        "produto = n\n",
        "contador = n - 1\n",
        "\n",
        "if n < 0:\n",
        "    print(\"Não é aceito número negativo. Tente novamente!\")\n",
        "else:\n",
        "    for i in range(1,n-1):\n",
        "        produto = produto * contador\n",
        "        contador -= 1\n",
        "    print(f\"O fatorial de {n}! é {produto}.\")"
      ],
      "execution_count": null,
      "outputs": []
    },
    {
      "cell_type": "markdown",
      "metadata": {
        "id": "s6JdoSQMz28w"
      },
      "source": [
        "**Exercício 8**"
      ]
    },
    {
      "cell_type": "code",
      "metadata": {
        "id": "g7Ix0XarP2jr"
      },
      "source": [
        "par = []\n",
        "\n",
        "impar = []\n",
        "\n",
        "for i in range(0,20):\n",
        "    prompt = int(input(\"Informe um númeo inteiro: \"))\n",
        "    if prompt % 2 == 0:\n",
        "        par.append(prompt)\n",
        "    else:\n",
        "        impar.append(prompt)\n",
        "\n",
        "print((\"Os números pares são {}.\").format(str(par).strip('[]')))\n",
        "print((\"Os números ímpares são {}.\").format(str(impar).strip('[]')))\n",
        "    "
      ],
      "execution_count": null,
      "outputs": []
    },
    {
      "cell_type": "markdown",
      "metadata": {
        "id": "7eIqDMHUG-sw"
      },
      "source": [
        "**Exercício 9**"
      ]
    },
    {
      "cell_type": "code",
      "metadata": {
        "id": "TSxSy4UiHDb_"
      },
      "source": [
        "ano = 1995\n",
        "\n",
        "ano_atual = int(input(\"Digite em que ano estamos: \"))\n",
        "\n",
        "dif = ano_atual - ano\n",
        "\n",
        "salario = 1000\n",
        "aumento = 0.015\n",
        "novo_sal = salario + aumento * salario\n",
        "\n",
        "for i in range(dif-1):\n",
        "    aumento = 2 * aumento\n",
        "    novo_sal = novo_sal + aumento * novo_sal\n",
        "\n",
        "print(f\"O salario do funcionário em {ano_atual} é de R${novo_sal:.2f}\")\n",
        "\n",
        "while True:\n",
        "    prompt = input(\"Você deseja mudar o salário inicial do funcionário? [Y/N]: \")\n",
        "    if prompt.upper() == \"Y\":\n",
        "            salario = int(input(\"Informe o salário desejado: \"))\n",
        "            aumento = 0.015\n",
        "            novo_sal = salario + aumento * salario\n",
        "            for i in range(dif-1):\n",
        "                aumento = 2 * aumento\n",
        "                novo_sal = novo_sal + aumento * novo_sal\n",
        "            print(f\"O salario do funcionário em {ano_atual} é de R${novo_sal:.2f}\")\n",
        "    elif prompt.upper() == \"N\":\n",
        "        break\n",
        "    else:\n",
        "        print(\"Essa entrada não é válida.\")"
      ],
      "execution_count": null,
      "outputs": []
    },
    {
      "cell_type": "markdown",
      "metadata": {
        "id": "wczCEo4VJqcq"
      },
      "source": [
        "**Exercício 10**"
      ]
    },
    {
      "cell_type": "code",
      "metadata": {
        "id": "ZFKHxY6_Jtc3"
      },
      "source": [
        "#Produtos do supermercado:\n",
        "catalogo = {\"100\": 5, \"101\": 6, \"102\":10.5, \"103\":1.3, \"104\":4, \"105\":3, \"106\":5}\n",
        "\n",
        "#Dicionário com codigo e quantidade comprada\n",
        "itens = []\n",
        "\n",
        "while True:\n",
        "    produto = input(\"Informe o código do produto ou q para sair: \")\n",
        "    if produto.lower() == \"q\":\n",
        "        break\n",
        "    elif produto not in catalogo.keys():\n",
        "        print(\"Esse código não está disponível no nosso catálogo.\")\n",
        "        continue\n",
        "    else:\n",
        "        qtde = int(input(\"Informe a quantidade do produto informado anteriormente: \"))\n",
        "        preco = catalogo.get(produto)\n",
        "        valor = preco*qtde\n",
        "        \n",
        "    itens.append({ \"Produto\": produto, \"Preco\":preco, \"Quantidade\": qtde, \"SubTotal\": valor})\n",
        "    \n",
        "\n",
        "\n",
        "#Item a ser pago, preço e total:\n",
        "print(\"\\n\")\n",
        "\n",
        "for i in itens:\n",
        "  produto = i.get(\"Produto\")\n",
        "  qtde = i.get(\"Quantidade\")\n",
        "  preco = i.get(\"Preco\")\n",
        "  subtotal = i.get(\"SubTotal\")\n",
        "  print(\"Código\", \"Quantidade\", \"Preço\", \"Sub Total\", sep = \"\\t\")\n",
        "  print((\" {:6}{:6}           R${:.2f}{:10.2f}\").format(produto, qtde, preco, subtotal))\n",
        "  \n",
        "  \n",
        "#Valor total das compras\n",
        "total = sum([ v.get('SubTotal') for v in itens  ])\n",
        "\n",
        "#Caso o indivíduo não tenha comprado nada\n",
        "if len(itens) == 0:\n",
        "    print(\"Você não comprou nada.\")\n",
        "else:\n",
        "    print(\"\\n\")\n",
        "    print(f\"Total a ser pago: R${total:.2f}.\")\n"
      ],
      "execution_count": null,
      "outputs": []
    }
  ]
}