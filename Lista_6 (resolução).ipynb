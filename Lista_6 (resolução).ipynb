{
  "cells": [
    {
      "cell_type": "code",
      "execution_count": 20,
      "metadata": {
        "id": "2yqZNSPTSYLK"
      },
      "outputs": [],
      "source": [
        "#Importando o pacote:\n",
        "import numpy as np  "
      ]
    },
    {
      "cell_type": "markdown",
      "metadata": {
        "id": "RIp_kpY8aoWy"
      },
      "source": [
        "### Matrizes de Demanda Intermediária, dos Valores Brutos de Produção e Demanda Final "
      ]
    },
    {
      "cell_type": "code",
      "execution_count": 21,
      "metadata": {
        "id": "3bsiWxsw1yjQ"
      },
      "outputs": [],
      "source": [
        "#Matriz de Demanda Intermediária\n",
        "dem_int = np.array([[20,90],[40,180]])\n",
        "\n",
        "#Matriz-coluna dos valores brutos de produção\n",
        "output = np.array([[200],[600]])\n",
        "\n",
        "#Matriz-coluna de Demanda Final\n",
        "dem_final = np.array([[90],[380]])"
      ]
    },
    {
      "cell_type": "markdown",
      "metadata": {
        "id": "45YpHKMkL2AE"
      },
      "source": [
        "### Matriz de Coeficientes Técnicos\n",
        "\n",
        "**Definição:**  indica as proporções da origem e do destino dos insumos e \n",
        "produtos da economia. Corresponde a uma matriz que revela toda a estrutura de demanda intermediária, indicando o grau de dependência\n",
        "de cada setor em relação aos demais (ROSSETTI, 1992)."
      ]
    },
    {
      "cell_type": "code",
      "execution_count": null,
      "metadata": {
        "id": "SleSgfx7emEM"
      },
      "outputs": [],
      "source": [
        "coef_tec = dem_int.dot(np.linalg.inv(output*np.identity(2)))\n",
        "print(coef_tec)"
      ]
    },
    {
      "cell_type": "markdown",
      "metadata": {
        "id": "ESySyaGZb0GY"
      },
      "source": [
        "### Matriz Inversa de Leontief\n"
      ]
    },
    {
      "cell_type": "code",
      "execution_count": null,
      "metadata": {
        "id": "Jl20mYZsQcsI"
      },
      "outputs": [],
      "source": [
        "inversa = np.linalg.inv(np.subtract(np.identity(2), coef_tec))\n",
        "print(inversa)"
      ]
    },
    {
      "cell_type": "markdown",
      "metadata": {
        "id": "8EtVXy_tQq_u"
      },
      "source": [
        "### Multiplicadores setoriais\n",
        "**Definição:** os multiplicadores setoriais são indicadores obtidos a partir da matriz inversa de Leontief ([I - A])$^{-1}$. Obtêm-se os multiplicadores econômicos de cada setor ao somar-se os vetores-coluna dessa matriz (Talamini e Pedrozo, 2017). "
      ]
    },
    {
      "cell_type": "code",
      "execution_count": null,
      "metadata": {
        "id": "5xB_-CLIbS72"
      },
      "outputs": [],
      "source": [
        "mult = np.ndarray.sum(inversa, axis=0) \n",
        "print(mult)"
      ]
    },
    {
      "cell_type": "markdown",
      "metadata": {
        "id": "lrwnd5eVdMfz"
      },
      "source": [
        "### Conferindo o resultado\n",
        "\n",
        "**Fórmula:** X = ([I - A])$^{-1}$C"
      ]
    },
    {
      "cell_type": "code",
      "execution_count": null,
      "metadata": {
        "id": "UxXb0iIvlGkS"
      },
      "outputs": [],
      "source": [
        "x = inversa.dot(dem_final)\n",
        "print(x)"
      ]
    },
    {
      "cell_type": "markdown",
      "metadata": {
        "id": "Pnt7VGlCfLJ2"
      },
      "source": [
        "### Referências\n",
        "\n",
        "TALAMINI, Edson; PEDROZO, Eugênio Ávila. MATRIZ DE INSUMO-PRODUTO (MIP) E ALGUNS INDICADORES PARA GESTÃO E PLANEJAMENTO DE PROPRIEDADES RURAIS: UMA APLICAÇÃO PRÁTICA. 2004.\n",
        "\n",
        "ROSSETTI, José Paschoal. CONTABILIDADE SOCIAL. 7 ed. São Paulo: Atlas, 1992."
      ]
    }
  ],
  "metadata": {
    "colab": {
      "name": "Lista 6.ipynb",
      "provenance": []
    },
    "kernelspec": {
      "display_name": "Python 3",
      "name": "python3"
    },
    "language_info": {
      "name": "python"
    }
  },
  "nbformat": 4,
  "nbformat_minor": 0
}
