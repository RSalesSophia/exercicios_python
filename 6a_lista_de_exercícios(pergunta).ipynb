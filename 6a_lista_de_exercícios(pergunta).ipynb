{
  "nbformat": 4,
  "nbformat_minor": 0,
  "metadata": {
    "language_info": {
      "name": "python"
    },
    "orig_nbformat": 4,
    "colab": {
      "name": "6a_lista_de_exercícios.ipynb",
      "provenance": [],
      "collapsed_sections": []
    }
  },
  "cells": [
    {
      "cell_type": "markdown",
      "metadata": {
        "id": "gdhdztk7j1ht"
      },
      "source": [
        "# Exercícios "
      ]
    },
    {
      "cell_type": "markdown",
      "metadata": {
        "id": "xmtoecbGjnpW"
      },
      "source": [
        "A entrega deverá ser feita na forma de arquivo Python Notebook \".ipynb\". Basta abrir um novo notebook no CoLab e no final ir no menu **ARQUIVO >> FAZER DOWNLOAD COMO .ipynb**."
      ]
    },
    {
      "cell_type": "markdown",
      "metadata": {
        "id": "uXyJpSeF8soA"
      },
      "source": [
        "### NumPy - vetores, matrizes e arrays"
      ]
    },
    {
      "cell_type": "markdown",
      "metadata": {
        "id": "L1ws2HL7mf5K"
      },
      "source": [
        "\n",
        " ## Matriz Insumo-Produto\n",
        "\n",
        "**Demanda intermediária**\n",
        "\n",
        "|Vendas/Despesas | Setor 1 | Setor 2 | Subtotal|\n",
        "|---|---|---|---|\n",
        "|Setor 1| 20 | 90 | 110|\n",
        "|Setor 2| 40 | 180 | 220 |\n",
        "|Subtotal| 60 | 270 | 330|\n",
        "\n",
        "Dado que os valores brutos da produção dos setores 1 e 2 são, respectivamente, 200 e 600, e que as demandas finais são 90 e 380, encontre os multiplicadores setoriais.\n",
        "\n",
        "#### Algoritmo de solução\n",
        "\n",
        "$$ x = (I-A)^{-1}c $$\n",
        "\n",
        "- x - vetor de produção setorial\n",
        "- A - matriz de coeficientes técnicos de produção\n",
        "- c - vetor de demanda setorial\n",
        "\n",
        "Observação: Veja Simon & Blume - Matemática para Econmistas. Cap. 8.5, p. 183-187.\n",
        "\n"
      ]
    },
    {
      "cell_type": "markdown",
      "metadata": {
        "id": "AGA5SUBnVfw3"
      },
      "source": [
        ""
      ]
    }
  ]
}