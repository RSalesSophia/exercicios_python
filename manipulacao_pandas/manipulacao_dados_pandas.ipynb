{
  "cells": [
    {
      "cell_type": "markdown",
      "metadata": {
        "id": "g7bas7sVrZCt"
      },
      "source": [
        "#### ESTUDO DIRIGIDO\n",
        "\n",
        "### Manipulação de Dados com Pandas\n",
        "\n",
        "Fonte de dados: \n",
        "\n",
        "- IBGE - https://www.ibge.gov.br/estatisticas/downloads-estatisticas.html\n",
        "- IPEADATA - http://www.ipeadata.gov.br/Default.aspx\n",
        "\n",
        "\n",
        "**Calculando taxas de crescimento econômico para os municípios brasileiros**.  \n",
        "\n",
        " 1. Leia o arquivo de dados `PIBMunicipios2010-2017.xls`.\n",
        " 2. Crie um novo data frame com as colunas/variáveis: `Ano, Nome da Grande Região, Código do Município, Nome do Município, Produto Interno Bruto, \\na preços correntes\\n(R$ 1.000)`.\n",
        " 3. Renomear as variáveis para `ano, nome_regiao, cod_mun, nome_mun, pib`, respectivamente. Guarde esse data frame na memória.\n",
        " 4. Leia o arquivo de dados `IPCA_indice_mensal.csv` em um novo data frame. Observe o separador de texto \";\", separador decimal, controle para o cabeçalho e se há necessidade de pular linhas.\n",
        " 5. Remova colunas vazias e renomei as colunas para: `periodo`, `indice`.\n",
        " 6. Transforme a tipagem da variável `periodo` para `datatime`.\n",
        " 7. Crie um novo data frame com o valor do índice acumulado por ano.\n",
        " 8. Transformar a coluna `periodo` para ano (4 dígitos). Dica: Usar `pd.DatetimeIndex`.\n",
        " 9. Altere a base da série de índice acumulado para 2017 = 100.\n",
        " 10. Crie uma nova coluna com o fator de correção montária para preços de 2017 (inverso do índice).\n",
        " 11. Faça a junção correta do data frame tratado dos dados de PIB por município e o data frame do índice acumulado do IPCA, de modo que a tabela de dados do PIB herde o índice do IPCA. Observe os nomes das variáveis-chave (ligação) e tipagem das mesmas. Faça ajustes se necessário antes dessa junção.\n",
        " 12. Calcule o PIB real (preços de 2017) de cada município (coluna `pib_real`) usando o fator de correção e o PIB nominal. \n",
        " 13. Filtre os dados do último *data frame* apenas para os anos de 2010 e 2017.\n",
        " 14. Crie um novo data frame selecionando apenas as colunas: `cod_mun`, `ano` e `pib_real`. Transforme o data frame do formato *long* para *wide*, distribuindo o `pib_real` com a dimensão ano por colunas.\n",
        " 15. Renomei as colunas 2010 e 2017 para `PIBreal2010` e `PIBreal2017`, respectivamente.\n",
        " 16. Calcule a taxa de crescimento do PIB real entre os dois períodos.\n",
        " 17. Conte o total de dados faltantes (NaN) por coluna.\n",
        " 18. Remova todos os dados faltantes.\n",
        " 19. Apresente uma tabela com os 10 municípios que registraram as maiores taxas de crescimento econômico no período analisado. Dica: veja o método `.sort_values`.\n",
        " 20. Apresente uma tabela com os 10 municípios que registraram as menores taxas de crescimento econômico (inclusive negativas) no período analisado.\n"
      ]
    },
    {
      "cell_type": "markdown",
      "metadata": {
        "id": "RnpECTZLi_HD"
      },
      "source": [
        "**Importando bibliotecas**"
      ]
    },
    {
      "cell_type": "code",
      "execution_count": 1,
      "metadata": {
        "id": "sQSLaQ_CgZl9"
      },
      "outputs": [],
      "source": [
        "import os\n",
        "import pandas as pd\n",
        "import datetime as dt"
      ]
    },
    {
      "cell_type": "markdown",
      "metadata": {
        "id": "qlsnu8xQ-M1p"
      },
      "source": [
        "**Configurações de tela**"
      ]
    },
    {
      "cell_type": "code",
      "execution_count": 2,
      "metadata": {
        "id": "Q7hNdJ8u-KSu"
      },
      "outputs": [],
      "source": [
        "pd.options.display.float_format = '{:.4f}'.format"
      ]
    },
    {
      "cell_type": "markdown",
      "metadata": {
        "id": "5_vK7G4dgSa9"
      },
      "source": [
        "**1 -** Leia o arquivo de dados PIBMunicipios2010-2017.xls"
      ]
    },
    {
      "cell_type": "code",
      "execution_count": 3,
      "metadata": {
        "id": "BmSX3kGjj9LO"
      },
      "outputs": [],
      "source": [
        "#Importando o arquivo \n",
        "pib = pd.read_excel(\"PIBMunicipios2010-2017.xls\")"
      ]
    },
    {
      "cell_type": "markdown",
      "metadata": {
        "id": "EL0lnBF5m_UW"
      },
      "source": [
        "**2 -** Crie um novo data frame com as colunas/variáveis: Ano, Nome da Grande Região, Código do Município, Nome do Município, \n",
        "Produto Interno Bruto, \\na preços correntes\\n(R$ 1.000)."
      ]
    },
    {
      "cell_type": "code",
      "execution_count": 4,
      "metadata": {
        "id": "NfiheBkum-W1"
      },
      "outputs": [],
      "source": [
        "pib = pib[[\"Ano\",  \"Nome da Grande Região\", \"Código do Município\", \"Nome do Município\", \"Produto Interno Bruto, \\na preços correntes\\n(R$ 1.000)\"]]"
      ]
    },
    {
      "cell_type": "code",
      "execution_count": 5,
      "metadata": {
        "id": "Qw8ZyYRnOW1P"
      },
      "outputs": [
        {
          "data": {
            "text/html": [
              "<div>\n",
              "<style scoped>\n",
              "    .dataframe tbody tr th:only-of-type {\n",
              "        vertical-align: middle;\n",
              "    }\n",
              "\n",
              "    .dataframe tbody tr th {\n",
              "        vertical-align: top;\n",
              "    }\n",
              "\n",
              "    .dataframe thead th {\n",
              "        text-align: right;\n",
              "    }\n",
              "</style>\n",
              "<table border=\"1\" class=\"dataframe\">\n",
              "  <thead>\n",
              "    <tr style=\"text-align: right;\">\n",
              "      <th></th>\n",
              "      <th>Ano</th>\n",
              "      <th>Nome da Grande Região</th>\n",
              "      <th>Código do Município</th>\n",
              "      <th>Nome do Município</th>\n",
              "      <th>Produto Interno Bruto, \\na preços correntes\\n(R$ 1.000)</th>\n",
              "    </tr>\n",
              "  </thead>\n",
              "  <tbody>\n",
              "    <tr>\n",
              "      <th>0</th>\n",
              "      <td>2010</td>\n",
              "      <td>Norte</td>\n",
              "      <td>1100015</td>\n",
              "      <td>Alta Floresta D'Oeste</td>\n",
              "      <td>262076.8780</td>\n",
              "    </tr>\n",
              "    <tr>\n",
              "      <th>1</th>\n",
              "      <td>2010</td>\n",
              "      <td>Norte</td>\n",
              "      <td>1100023</td>\n",
              "      <td>Ariquemes</td>\n",
              "      <td>1364693.7800</td>\n",
              "    </tr>\n",
              "    <tr>\n",
              "      <th>2</th>\n",
              "      <td>2010</td>\n",
              "      <td>Norte</td>\n",
              "      <td>1100031</td>\n",
              "      <td>Cabixi</td>\n",
              "      <td>69611.1140</td>\n",
              "    </tr>\n",
              "    <tr>\n",
              "      <th>3</th>\n",
              "      <td>2010</td>\n",
              "      <td>Norte</td>\n",
              "      <td>1100049</td>\n",
              "      <td>Cacoal</td>\n",
              "      <td>1186494.0910</td>\n",
              "    </tr>\n",
              "    <tr>\n",
              "      <th>4</th>\n",
              "      <td>2010</td>\n",
              "      <td>Norte</td>\n",
              "      <td>1100056</td>\n",
              "      <td>Cerejeiras</td>\n",
              "      <td>222021.1890</td>\n",
              "    </tr>\n",
              "  </tbody>\n",
              "</table>\n",
              "</div>"
            ],
            "text/plain": [
              "    Ano Nome da Grande Região  Código do Município      Nome do Município  \\\n",
              "0  2010                 Norte              1100015  Alta Floresta D'Oeste   \n",
              "1  2010                 Norte              1100023              Ariquemes   \n",
              "2  2010                 Norte              1100031                 Cabixi   \n",
              "3  2010                 Norte              1100049                 Cacoal   \n",
              "4  2010                 Norte              1100056             Cerejeiras   \n",
              "\n",
              "   Produto Interno Bruto, \\na preços correntes\\n(R$ 1.000)  \n",
              "0                                        262076.8780        \n",
              "1                                       1364693.7800        \n",
              "2                                         69611.1140        \n",
              "3                                       1186494.0910        \n",
              "4                                        222021.1890        "
            ]
          },
          "execution_count": 5,
          "metadata": {},
          "output_type": "execute_result"
        }
      ],
      "source": [
        "#Conferindo as 5 primeiras linhas do data frame\n",
        "pib.head()"
      ]
    },
    {
      "cell_type": "markdown",
      "metadata": {
        "id": "fMBqGD65oXYb"
      },
      "source": [
        "**3 -** Renomear as variáveis para ano, nome_regiao, cod_mun, nome_mun, pib, respectivamente. Guarde esse data frame na memória."
      ]
    },
    {
      "cell_type": "code",
      "execution_count": 6,
      "metadata": {
        "id": "a_-B32RkoWCx"
      },
      "outputs": [],
      "source": [
        "pib = pib.rename(columns={\"Ano\": \"ano\", \"Nome da Grande Região\": \"nome_regiao\", \"Código do Município\": \"cod_mun\", \n",
        "                      \"Nome do Município\": \"nome_mun\", \"Produto Interno Bruto, \\na preços correntes\\n(R$ 1.000)\" : \"pib\"})"
      ]
    },
    {
      "cell_type": "code",
      "execution_count": 7,
      "metadata": {
        "id": "tp1ril4mOnil"
      },
      "outputs": [
        {
          "data": {
            "text/html": [
              "<div>\n",
              "<style scoped>\n",
              "    .dataframe tbody tr th:only-of-type {\n",
              "        vertical-align: middle;\n",
              "    }\n",
              "\n",
              "    .dataframe tbody tr th {\n",
              "        vertical-align: top;\n",
              "    }\n",
              "\n",
              "    .dataframe thead th {\n",
              "        text-align: right;\n",
              "    }\n",
              "</style>\n",
              "<table border=\"1\" class=\"dataframe\">\n",
              "  <thead>\n",
              "    <tr style=\"text-align: right;\">\n",
              "      <th></th>\n",
              "      <th>ano</th>\n",
              "      <th>nome_regiao</th>\n",
              "      <th>cod_mun</th>\n",
              "      <th>nome_mun</th>\n",
              "      <th>pib</th>\n",
              "    </tr>\n",
              "  </thead>\n",
              "  <tbody>\n",
              "    <tr>\n",
              "      <th>0</th>\n",
              "      <td>2010</td>\n",
              "      <td>Norte</td>\n",
              "      <td>1100015</td>\n",
              "      <td>Alta Floresta D'Oeste</td>\n",
              "      <td>262076.8780</td>\n",
              "    </tr>\n",
              "    <tr>\n",
              "      <th>1</th>\n",
              "      <td>2010</td>\n",
              "      <td>Norte</td>\n",
              "      <td>1100023</td>\n",
              "      <td>Ariquemes</td>\n",
              "      <td>1364693.7800</td>\n",
              "    </tr>\n",
              "    <tr>\n",
              "      <th>2</th>\n",
              "      <td>2010</td>\n",
              "      <td>Norte</td>\n",
              "      <td>1100031</td>\n",
              "      <td>Cabixi</td>\n",
              "      <td>69611.1140</td>\n",
              "    </tr>\n",
              "    <tr>\n",
              "      <th>3</th>\n",
              "      <td>2010</td>\n",
              "      <td>Norte</td>\n",
              "      <td>1100049</td>\n",
              "      <td>Cacoal</td>\n",
              "      <td>1186494.0910</td>\n",
              "    </tr>\n",
              "    <tr>\n",
              "      <th>4</th>\n",
              "      <td>2010</td>\n",
              "      <td>Norte</td>\n",
              "      <td>1100056</td>\n",
              "      <td>Cerejeiras</td>\n",
              "      <td>222021.1890</td>\n",
              "    </tr>\n",
              "  </tbody>\n",
              "</table>\n",
              "</div>"
            ],
            "text/plain": [
              "    ano nome_regiao  cod_mun               nome_mun          pib\n",
              "0  2010       Norte  1100015  Alta Floresta D'Oeste  262076.8780\n",
              "1  2010       Norte  1100023              Ariquemes 1364693.7800\n",
              "2  2010       Norte  1100031                 Cabixi   69611.1140\n",
              "3  2010       Norte  1100049                 Cacoal 1186494.0910\n",
              "4  2010       Norte  1100056             Cerejeiras  222021.1890"
            ]
          },
          "execution_count": 7,
          "metadata": {},
          "output_type": "execute_result"
        }
      ],
      "source": [
        "#Conferindo as 5 primeiras linhas do data frame\n",
        "pib.head()"
      ]
    },
    {
      "cell_type": "markdown",
      "metadata": {
        "id": "2SWAYDpRpxxp"
      },
      "source": [
        "**4 -** Leia o arquivo de dados IPCA_indice_mensal.csv em um novo data frame. Observe o separador de texto \";\", separador decimal, controle para o cabeçalho e se há necessidade de pular linhas."
      ]
    },
    {
      "cell_type": "code",
      "execution_count": 8,
      "metadata": {
        "id": "HCdHjwCnp1YM"
      },
      "outputs": [],
      "source": [
        "ipca = pd.read_csv(\"IPCA_indice_mensal.csv\",  sep=';', decimal = \",\")"
      ]
    },
    {
      "cell_type": "code",
      "execution_count": 9,
      "metadata": {
        "id": "HkveiRLH_Dly"
      },
      "outputs": [
        {
          "data": {
            "text/html": [
              "<div>\n",
              "<style scoped>\n",
              "    .dataframe tbody tr th:only-of-type {\n",
              "        vertical-align: middle;\n",
              "    }\n",
              "\n",
              "    .dataframe tbody tr th {\n",
              "        vertical-align: top;\n",
              "    }\n",
              "\n",
              "    .dataframe thead th {\n",
              "        text-align: right;\n",
              "    }\n",
              "</style>\n",
              "<table border=\"1\" class=\"dataframe\">\n",
              "  <thead>\n",
              "    <tr style=\"text-align: right;\">\n",
              "      <th></th>\n",
              "      <th>Data</th>\n",
              "      <th>Preços - IPCA - geral - índice (dez. 1993 = 100) - - - Instituto Brasileiro de Geografia e Estatística, Sistema Nacional de Índices de Preços ao Consumidor (IBGE/SNIPC) - PRECOS12_IPCA12</th>\n",
              "      <th>Unnamed: 2</th>\n",
              "    </tr>\n",
              "  </thead>\n",
              "  <tbody>\n",
              "    <tr>\n",
              "      <th>487</th>\n",
              "      <td>2020.07</td>\n",
              "      <td>5344.6300</td>\n",
              "      <td>NaN</td>\n",
              "    </tr>\n",
              "    <tr>\n",
              "      <th>488</th>\n",
              "      <td>2020.08</td>\n",
              "      <td>5357.4600</td>\n",
              "      <td>NaN</td>\n",
              "    </tr>\n",
              "    <tr>\n",
              "      <th>489</th>\n",
              "      <td>2020.09</td>\n",
              "      <td>5391.7500</td>\n",
              "      <td>NaN</td>\n",
              "    </tr>\n",
              "    <tr>\n",
              "      <th>490</th>\n",
              "      <td>2020.10</td>\n",
              "      <td>5438.1200</td>\n",
              "      <td>NaN</td>\n",
              "    </tr>\n",
              "    <tr>\n",
              "      <th>491</th>\n",
              "      <td>2020.11</td>\n",
              "      <td>5486.5200</td>\n",
              "      <td>NaN</td>\n",
              "    </tr>\n",
              "  </tbody>\n",
              "</table>\n",
              "</div>"
            ],
            "text/plain": [
              "        Data  \\\n",
              "487  2020.07   \n",
              "488  2020.08   \n",
              "489  2020.09   \n",
              "490  2020.10   \n",
              "491  2020.11   \n",
              "\n",
              "     Preços - IPCA - geral - índice (dez. 1993 = 100) - - - Instituto Brasileiro de Geografia e Estatística, Sistema Nacional de Índices de Preços ao Consumidor (IBGE/SNIPC) - PRECOS12_IPCA12  \\\n",
              "487                                          5344.6300                                                                                                                                            \n",
              "488                                          5357.4600                                                                                                                                            \n",
              "489                                          5391.7500                                                                                                                                            \n",
              "490                                          5438.1200                                                                                                                                            \n",
              "491                                          5486.5200                                                                                                                                            \n",
              "\n",
              "     Unnamed: 2  \n",
              "487         NaN  \n",
              "488         NaN  \n",
              "489         NaN  \n",
              "490         NaN  \n",
              "491         NaN  "
            ]
          },
          "execution_count": 9,
          "metadata": {},
          "output_type": "execute_result"
        }
      ],
      "source": [
        "#Olhando os dados na base importada: as 5 últimas linhas\n",
        "ipca.tail()"
      ]
    },
    {
      "cell_type": "markdown",
      "metadata": {
        "id": "R4AV6h81sHzS"
      },
      "source": [
        "**5 -** Remova colunas vazias e renomei as colunas para: periodo, indice."
      ]
    },
    {
      "cell_type": "code",
      "execution_count": 10,
      "metadata": {
        "id": "NZnLzkPJuRjQ"
      },
      "outputs": [],
      "source": [
        "#Excluindo a coluna vazia\n",
        "ipca = ipca.drop(columns=[\"Unnamed: 2\"])"
      ]
    },
    {
      "cell_type": "code",
      "execution_count": 11,
      "metadata": {
        "id": "PFuT70GQsLRE"
      },
      "outputs": [],
      "source": [
        "#Renomeando as colunas\n",
        "ipca = ipca.rename(columns = {\"Data\": \"periodo\",\n",
        "                              \"Preços - IPCA - geral - índice (dez. 1993 = 100) - - - Instituto Brasileiro de Geografia e Estatística, Sistema Nacional de Índices de Preços ao Consumidor (IBGE/SNIPC) - PRECOS12_IPCA12\": \"indice\"})"
      ]
    },
    {
      "cell_type": "code",
      "execution_count": 12,
      "metadata": {
        "id": "nn9ExhgcO3Kf"
      },
      "outputs": [
        {
          "data": {
            "text/html": [
              "<div>\n",
              "<style scoped>\n",
              "    .dataframe tbody tr th:only-of-type {\n",
              "        vertical-align: middle;\n",
              "    }\n",
              "\n",
              "    .dataframe tbody tr th {\n",
              "        vertical-align: top;\n",
              "    }\n",
              "\n",
              "    .dataframe thead th {\n",
              "        text-align: right;\n",
              "    }\n",
              "</style>\n",
              "<table border=\"1\" class=\"dataframe\">\n",
              "  <thead>\n",
              "    <tr style=\"text-align: right;\">\n",
              "      <th></th>\n",
              "      <th>periodo</th>\n",
              "      <th>indice</th>\n",
              "    </tr>\n",
              "  </thead>\n",
              "  <tbody>\n",
              "    <tr>\n",
              "      <th>0</th>\n",
              "      <td>1979.12</td>\n",
              "      <td>0.0000</td>\n",
              "    </tr>\n",
              "    <tr>\n",
              "      <th>1</th>\n",
              "      <td>1980.01</td>\n",
              "      <td>0.0000</td>\n",
              "    </tr>\n",
              "    <tr>\n",
              "      <th>2</th>\n",
              "      <td>1980.02</td>\n",
              "      <td>0.0000</td>\n",
              "    </tr>\n",
              "    <tr>\n",
              "      <th>3</th>\n",
              "      <td>1980.03</td>\n",
              "      <td>0.0000</td>\n",
              "    </tr>\n",
              "    <tr>\n",
              "      <th>4</th>\n",
              "      <td>1980.04</td>\n",
              "      <td>0.0000</td>\n",
              "    </tr>\n",
              "  </tbody>\n",
              "</table>\n",
              "</div>"
            ],
            "text/plain": [
              "   periodo  indice\n",
              "0  1979.12  0.0000\n",
              "1  1980.01  0.0000\n",
              "2  1980.02  0.0000\n",
              "3  1980.03  0.0000\n",
              "4  1980.04  0.0000"
            ]
          },
          "execution_count": 12,
          "metadata": {},
          "output_type": "execute_result"
        }
      ],
      "source": [
        "#Conferindo as mudanças anteriores\n",
        "ipca.head()"
      ]
    },
    {
      "cell_type": "markdown",
      "metadata": {
        "id": "1TnwcrbxuoNr"
      },
      "source": [
        "**6 -** Transforme a tipagem da variável periodo para datatime."
      ]
    },
    {
      "cell_type": "code",
      "execution_count": 13,
      "metadata": {
        "id": "fGJ9mZ5DJ9jz"
      },
      "outputs": [],
      "source": [
        "#Converter a coluna periodo em data\n",
        "ipca.periodo = pd.to_datetime(ipca.periodo)"
      ]
    },
    {
      "cell_type": "code",
      "execution_count": 14,
      "metadata": {
        "id": "GSBCkVWDunhh"
      },
      "outputs": [
        {
          "name": "stdout",
          "output_type": "stream",
          "text": [
            "<class 'pandas.core.frame.DataFrame'>\n",
            "RangeIndex: 492 entries, 0 to 491\n",
            "Data columns (total 2 columns):\n",
            " #   Column   Non-Null Count  Dtype         \n",
            "---  ------   --------------  -----         \n",
            " 0   periodo  492 non-null    datetime64[ns]\n",
            " 1   indice   492 non-null    float64       \n",
            "dtypes: datetime64[ns](1), float64(1)\n",
            "memory usage: 7.8 KB\n"
          ]
        }
      ],
      "source": [
        "#Verificando a mudança feita anteriormente\n",
        "ipca.info()"
      ]
    },
    {
      "cell_type": "markdown",
      "metadata": {
        "id": "j9wPuvwR-TDP"
      },
      "source": [
        "**8 -** Transformar a coluna periodo para ano (4 dígitos). Dica: Usar pd.DatetimeIndex"
      ]
    },
    {
      "cell_type": "code",
      "execution_count": 15,
      "metadata": {
        "id": "P5kLKVrQ-SHB"
      },
      "outputs": [],
      "source": [
        "ipca['ano'] = pd.DatetimeIndex(ipca['periodo']).year"
      ]
    },
    {
      "cell_type": "markdown",
      "metadata": {
        "id": "vSD_IOin2LMd"
      },
      "source": [
        "**7 -** Crie um novo data frame com o valor do índice acumulado por ano."
      ]
    },
    {
      "cell_type": "code",
      "execution_count": 16,
      "metadata": {
        "id": "rZIQo9GUyJ8n"
      },
      "outputs": [],
      "source": [
        "#Agregando os valores do índice por ano: \n",
        "ipca = ipca.groupby(\"ano\", as_index=False).agg({\"indice\": \"sum\"})"
      ]
    },
    {
      "cell_type": "code",
      "execution_count": 17,
      "metadata": {
        "id": "9GDwRHdcULDG"
      },
      "outputs": [
        {
          "data": {
            "text/html": [
              "<div>\n",
              "<style scoped>\n",
              "    .dataframe tbody tr th:only-of-type {\n",
              "        vertical-align: middle;\n",
              "    }\n",
              "\n",
              "    .dataframe tbody tr th {\n",
              "        vertical-align: top;\n",
              "    }\n",
              "\n",
              "    .dataframe thead th {\n",
              "        text-align: right;\n",
              "    }\n",
              "</style>\n",
              "<table border=\"1\" class=\"dataframe\">\n",
              "  <thead>\n",
              "    <tr style=\"text-align: right;\">\n",
              "      <th></th>\n",
              "      <th>ano</th>\n",
              "      <th>indice</th>\n",
              "    </tr>\n",
              "  </thead>\n",
              "  <tbody>\n",
              "    <tr>\n",
              "      <th>37</th>\n",
              "      <td>2016</td>\n",
              "      <td>56241.4400</td>\n",
              "    </tr>\n",
              "    <tr>\n",
              "      <th>38</th>\n",
              "      <td>2017</td>\n",
              "      <td>58179.7300</td>\n",
              "    </tr>\n",
              "    <tr>\n",
              "      <th>39</th>\n",
              "      <td>2018</td>\n",
              "      <td>60311.9300</td>\n",
              "    </tr>\n",
              "    <tr>\n",
              "      <th>40</th>\n",
              "      <td>2019</td>\n",
              "      <td>62563.3600</td>\n",
              "    </tr>\n",
              "    <tr>\n",
              "      <th>41</th>\n",
              "      <td>2020</td>\n",
              "      <td>59012.1600</td>\n",
              "    </tr>\n",
              "  </tbody>\n",
              "</table>\n",
              "</div>"
            ],
            "text/plain": [
              "     ano     indice\n",
              "37  2016 56241.4400\n",
              "38  2017 58179.7300\n",
              "39  2018 60311.9300\n",
              "40  2019 62563.3600\n",
              "41  2020 59012.1600"
            ]
          },
          "execution_count": 17,
          "metadata": {},
          "output_type": "execute_result"
        }
      ],
      "source": [
        "#Verificando a mudança feita anteriormente\n",
        "ipca.tail()"
      ]
    },
    {
      "cell_type": "markdown",
      "metadata": {
        "id": "xiel2OrX_Vnj"
      },
      "source": [
        "**9 -** Altere a base da série de índice acumulado para 2017 = 100"
      ]
    },
    {
      "cell_type": "markdown",
      "metadata": {
        "id": "9sPQ4LD21UWI"
      },
      "source": [
        "**Para realizar a mudança de base de um número índice necessita-se dividir a série original pelo número índice do período escolhido como nova base.**"
      ]
    },
    {
      "cell_type": "code",
      "execution_count": 18,
      "metadata": {
        "id": "N_jKTkilX3oZ"
      },
      "outputs": [
        {
          "data": {
            "text/html": [
              "<div>\n",
              "<style scoped>\n",
              "    .dataframe tbody tr th:only-of-type {\n",
              "        vertical-align: middle;\n",
              "    }\n",
              "\n",
              "    .dataframe tbody tr th {\n",
              "        vertical-align: top;\n",
              "    }\n",
              "\n",
              "    .dataframe thead th {\n",
              "        text-align: right;\n",
              "    }\n",
              "</style>\n",
              "<table border=\"1\" class=\"dataframe\">\n",
              "  <thead>\n",
              "    <tr style=\"text-align: right;\">\n",
              "      <th></th>\n",
              "      <th>ano</th>\n",
              "      <th>indice</th>\n",
              "    </tr>\n",
              "  </thead>\n",
              "  <tbody>\n",
              "    <tr>\n",
              "      <th>38</th>\n",
              "      <td>2017</td>\n",
              "      <td>58179.7300</td>\n",
              "    </tr>\n",
              "  </tbody>\n",
              "</table>\n",
              "</div>"
            ],
            "text/plain": [
              "     ano     indice\n",
              "38  2017 58179.7300"
            ]
          },
          "execution_count": 18,
          "metadata": {},
          "output_type": "execute_result"
        }
      ],
      "source": [
        "#Dado que a base original do índice consiste no mês de dezembro de 2013\n",
        "#Descobre-se o valor do indice no mês de dezembro de 2017\n",
        "ipca[ipca['ano']==2017]\n"
      ]
    },
    {
      "cell_type": "code",
      "execution_count": 19,
      "metadata": {
        "id": "o6n2Ajc3ZODC"
      },
      "outputs": [],
      "source": [
        "#Capturando o valor encontrado acima e mudando a base da série do índice\n",
        "#A coluna indice_2017 representa os valores do índice ajustados ao ano de 2017\n",
        "ipca[\"indice_2017\"] = (ipca[\"indice\"]/58179.73)*100"
      ]
    },
    {
      "cell_type": "code",
      "execution_count": 20,
      "metadata": {
        "id": "NWe-RpVvPTbO"
      },
      "outputs": [
        {
          "data": {
            "text/html": [
              "<div>\n",
              "<style scoped>\n",
              "    .dataframe tbody tr th:only-of-type {\n",
              "        vertical-align: middle;\n",
              "    }\n",
              "\n",
              "    .dataframe tbody tr th {\n",
              "        vertical-align: top;\n",
              "    }\n",
              "\n",
              "    .dataframe thead th {\n",
              "        text-align: right;\n",
              "    }\n",
              "</style>\n",
              "<table border=\"1\" class=\"dataframe\">\n",
              "  <thead>\n",
              "    <tr style=\"text-align: right;\">\n",
              "      <th></th>\n",
              "      <th>ano</th>\n",
              "      <th>indice</th>\n",
              "      <th>indice_2017</th>\n",
              "    </tr>\n",
              "  </thead>\n",
              "  <tbody>\n",
              "    <tr>\n",
              "      <th>37</th>\n",
              "      <td>2016</td>\n",
              "      <td>56241.4400</td>\n",
              "      <td>96.6684</td>\n",
              "    </tr>\n",
              "    <tr>\n",
              "      <th>38</th>\n",
              "      <td>2017</td>\n",
              "      <td>58179.7300</td>\n",
              "      <td>100.0000</td>\n",
              "    </tr>\n",
              "    <tr>\n",
              "      <th>39</th>\n",
              "      <td>2018</td>\n",
              "      <td>60311.9300</td>\n",
              "      <td>103.6649</td>\n",
              "    </tr>\n",
              "    <tr>\n",
              "      <th>40</th>\n",
              "      <td>2019</td>\n",
              "      <td>62563.3600</td>\n",
              "      <td>107.5346</td>\n",
              "    </tr>\n",
              "    <tr>\n",
              "      <th>41</th>\n",
              "      <td>2020</td>\n",
              "      <td>59012.1600</td>\n",
              "      <td>101.4308</td>\n",
              "    </tr>\n",
              "  </tbody>\n",
              "</table>\n",
              "</div>"
            ],
            "text/plain": [
              "     ano     indice  indice_2017\n",
              "37  2016 56241.4400      96.6684\n",
              "38  2017 58179.7300     100.0000\n",
              "39  2018 60311.9300     103.6649\n",
              "40  2019 62563.3600     107.5346\n",
              "41  2020 59012.1600     101.4308"
            ]
          },
          "execution_count": 20,
          "metadata": {},
          "output_type": "execute_result"
        }
      ],
      "source": [
        "#Verificando as mudanças realizadas\n",
        "ipca.tail()"
      ]
    },
    {
      "cell_type": "markdown",
      "metadata": {
        "id": "iDcJyVcZ2BSs"
      },
      "source": [
        "**10 -** Crie uma nova coluna com o fator de correção monetária para preços de 2017 (inverso do índice)."
      ]
    },
    {
      "cell_type": "code",
      "execution_count": 21,
      "metadata": {
        "id": "WYh80QN51E7n"
      },
      "outputs": [],
      "source": [
        "ipca[\"fator_correcao\"] = ipca[\"indice_2017\"]/100"
      ]
    },
    {
      "cell_type": "markdown",
      "metadata": {
        "id": "q7zaqh_85Tkz"
      },
      "source": [
        "**11 -** Faça a junção correta do data frame tratado dos dados de PIB por município e o data frame do índice acumulado do IPCA, de modo que a tabela de dados do PIB herde o índice do IPCA. Observe os nomes das variáveis-chave (ligação) e tipagem das mesmas. Faça ajustes se necessário antes dessa junção."
      ]
    },
    {
      "cell_type": "code",
      "execution_count": 22,
      "metadata": {
        "id": "3Kre803c1E1C"
      },
      "outputs": [],
      "source": [
        "data = pd.merge(left = pib, right = ipca, on = [\"ano\"], how = \"inner\")"
      ]
    },
    {
      "cell_type": "code",
      "execution_count": 23,
      "metadata": {
        "id": "peA0UkgdPjRq"
      },
      "outputs": [
        {
          "name": "stdout",
          "output_type": "stream",
          "text": [
            "<class 'pandas.core.frame.DataFrame'>\n",
            "Int64Index: 44545 entries, 0 to 44544\n",
            "Data columns (total 8 columns):\n",
            " #   Column          Non-Null Count  Dtype  \n",
            "---  ------          --------------  -----  \n",
            " 0   ano             44545 non-null  int64  \n",
            " 1   nome_regiao     44545 non-null  object \n",
            " 2   cod_mun         44545 non-null  int64  \n",
            " 3   nome_mun        44545 non-null  object \n",
            " 4   pib             44545 non-null  float64\n",
            " 5   indice          44545 non-null  float64\n",
            " 6   indice_2017     44545 non-null  float64\n",
            " 7   fator_correcao  44545 non-null  float64\n",
            "dtypes: float64(4), int64(2), object(2)\n",
            "memory usage: 3.1+ MB\n"
          ]
        }
      ],
      "source": [
        "#Atentando quanto as informações da nova base criada\n",
        "data.info()"
      ]
    },
    {
      "cell_type": "markdown",
      "metadata": {
        "id": "2ATsPM3gAFD0"
      },
      "source": [
        "**12 -** Calcule o PIB real (preços de 2017) de cada município (coluna pib_real) usando o fator de correção e o PIB nominal."
      ]
    },
    {
      "cell_type": "code",
      "execution_count": 24,
      "metadata": {
        "id": "Jy4h32Qo1EyP"
      },
      "outputs": [],
      "source": [
        "data[\"pib_real\"] = data[\"pib\"]/data[\"fator_correcao\"]"
      ]
    },
    {
      "cell_type": "markdown",
      "metadata": {
        "id": "3Y0sAr2NC6bT"
      },
      "source": [
        "**13 -** Filtre os dados do último data frame apenas para os anos de 2010 e 2017."
      ]
    },
    {
      "cell_type": "code",
      "execution_count": 25,
      "metadata": {
        "id": "fZ1pBC331Ev2"
      },
      "outputs": [],
      "source": [
        "data_new = data[(data['ano']==2010) | (data['ano']==2017)]"
      ]
    },
    {
      "cell_type": "code",
      "execution_count": 26,
      "metadata": {
        "id": "XCBcvZq3Qvg-"
      },
      "outputs": [
        {
          "name": "stdout",
          "output_type": "stream",
          "text": [
            "<class 'pandas.core.frame.DataFrame'>\n",
            "Int64Index: 11135 entries, 0 to 44544\n",
            "Data columns (total 9 columns):\n",
            " #   Column          Non-Null Count  Dtype  \n",
            "---  ------          --------------  -----  \n",
            " 0   ano             11135 non-null  int64  \n",
            " 1   nome_regiao     11135 non-null  object \n",
            " 2   cod_mun         11135 non-null  int64  \n",
            " 3   nome_mun        11135 non-null  object \n",
            " 4   pib             11135 non-null  float64\n",
            " 5   indice          11135 non-null  float64\n",
            " 6   indice_2017     11135 non-null  float64\n",
            " 7   fator_correcao  11135 non-null  float64\n",
            " 8   pib_real        11135 non-null  float64\n",
            "dtypes: float64(5), int64(2), object(2)\n",
            "memory usage: 869.9+ KB\n"
          ]
        }
      ],
      "source": [
        "#Atentando quanto as informações da nova base criada\n",
        "data_new.info()"
      ]
    },
    {
      "cell_type": "markdown",
      "metadata": {
        "id": "wbYqW29VFwcT"
      },
      "source": [
        "**14 -** Crie um novo data frame selecionando apenas as colunas: cod_mun, ano e pib_real. Transforme o data frame do formato long para wide, distribuindo o pib_real com a dimensão ano por colunas"
      ]
    },
    {
      "cell_type": "code",
      "execution_count": 27,
      "metadata": {
        "id": "-jRSdGBr1Eth"
      },
      "outputs": [],
      "source": [
        "#Criando um subset \n",
        "data_new = data_new[[\"cod_mun\", \"ano\", \"pib_real\"]]"
      ]
    },
    {
      "cell_type": "code",
      "execution_count": 28,
      "metadata": {
        "id": "m_mfpTcN1Enw"
      },
      "outputs": [],
      "source": [
        "#Transformando o df do formato long para wide\n",
        "data_new = data_new.pivot(index = \"cod_mun\", columns = \"ano\", values = \"pib_real\")"
      ]
    },
    {
      "cell_type": "code",
      "execution_count": 29,
      "metadata": {
        "id": "V40iqmf0UejB"
      },
      "outputs": [
        {
          "data": {
            "text/html": [
              "<div>\n",
              "<style scoped>\n",
              "    .dataframe tbody tr th:only-of-type {\n",
              "        vertical-align: middle;\n",
              "    }\n",
              "\n",
              "    .dataframe tbody tr th {\n",
              "        vertical-align: top;\n",
              "    }\n",
              "\n",
              "    .dataframe thead th {\n",
              "        text-align: right;\n",
              "    }\n",
              "</style>\n",
              "<table border=\"1\" class=\"dataframe\">\n",
              "  <thead>\n",
              "    <tr style=\"text-align: right;\">\n",
              "      <th>ano</th>\n",
              "      <th>2010</th>\n",
              "      <th>2017</th>\n",
              "    </tr>\n",
              "    <tr>\n",
              "      <th>cod_mun</th>\n",
              "      <th></th>\n",
              "      <th></th>\n",
              "    </tr>\n",
              "  </thead>\n",
              "  <tbody>\n",
              "    <tr>\n",
              "      <th>1100015</th>\n",
              "      <td>407971.8950</td>\n",
              "      <td>498864.1890</td>\n",
              "    </tr>\n",
              "    <tr>\n",
              "      <th>1100023</th>\n",
              "      <td>2124402.2431</td>\n",
              "      <td>2296073.7050</td>\n",
              "    </tr>\n",
              "    <tr>\n",
              "      <th>1100031</th>\n",
              "      <td>108362.7762</td>\n",
              "      <td>138893.5450</td>\n",
              "    </tr>\n",
              "    <tr>\n",
              "      <th>1100049</th>\n",
              "      <td>1847000.9502</td>\n",
              "      <td>2127523.2540</td>\n",
              "    </tr>\n",
              "    <tr>\n",
              "      <th>1100056</th>\n",
              "      <td>345617.6901</td>\n",
              "      <td>448524.1710</td>\n",
              "    </tr>\n",
              "  </tbody>\n",
              "</table>\n",
              "</div>"
            ],
            "text/plain": [
              "ano             2010         2017\n",
              "cod_mun                          \n",
              "1100015  407971.8950  498864.1890\n",
              "1100023 2124402.2431 2296073.7050\n",
              "1100031  108362.7762  138893.5450\n",
              "1100049 1847000.9502 2127523.2540\n",
              "1100056  345617.6901  448524.1710"
            ]
          },
          "execution_count": 29,
          "metadata": {},
          "output_type": "execute_result"
        }
      ],
      "source": [
        "#Verificando o data frame com o novo formato\n",
        "data_new.head()"
      ]
    },
    {
      "cell_type": "markdown",
      "metadata": {
        "id": "K812bBcWH5_7"
      },
      "source": [
        "**15 -** Renomeie as colunas 2010 e 2017 para PIBreal2010 e PIBreal2017, respectivamente."
      ]
    },
    {
      "cell_type": "code",
      "execution_count": 30,
      "metadata": {
        "id": "awlysvSLHznQ"
      },
      "outputs": [],
      "source": [
        "data_new = data_new.rename(columns = {2010: \"PIBreal2010\", 2017: \"PIBreal2017\"})"
      ]
    },
    {
      "cell_type": "markdown",
      "metadata": {
        "id": "2LJ1_ZpRI7JF"
      },
      "source": [
        "**16 -** Calcule a taxa de crescimento do PIB real entre os dois períodos."
      ]
    },
    {
      "cell_type": "code",
      "execution_count": 31,
      "metadata": {
        "id": "2cnPE3frHzgB"
      },
      "outputs": [],
      "source": [
        "data_new[\"tx_pib\"] = ((data_new[\"PIBreal2017\"] - data_new[\"PIBreal2010\"])/data_new[\"PIBreal2010\"])*100"
      ]
    },
    {
      "cell_type": "markdown",
      "metadata": {
        "id": "pxYvtqi7JrQs"
      },
      "source": [
        "**17 -** Conte o total de dados faltantes (NaN) por coluna"
      ]
    },
    {
      "cell_type": "code",
      "execution_count": 32,
      "metadata": {
        "id": "uEWLwL3rHzcD"
      },
      "outputs": [
        {
          "data": {
            "text/plain": [
              "ano\n",
              "PIBreal2010    5\n",
              "PIBreal2017    0\n",
              "tx_pib         5\n",
              "dtype: int64"
            ]
          },
          "execution_count": 32,
          "metadata": {},
          "output_type": "execute_result"
        }
      ],
      "source": [
        "data_new.isna().sum()"
      ]
    },
    {
      "cell_type": "markdown",
      "metadata": {
        "id": "Ot3vCjMiJ_Gd"
      },
      "source": [
        "**18 -** Remova todos os dados faltantes."
      ]
    },
    {
      "cell_type": "code",
      "execution_count": 33,
      "metadata": {
        "id": "2bQWO-vkHzY9"
      },
      "outputs": [],
      "source": [
        "data_new = data_new.dropna() "
      ]
    },
    {
      "cell_type": "markdown",
      "metadata": {
        "id": "h7-m67d6Kr-1"
      },
      "source": [
        "**19 -** Apresente uma tabela com os 10 municípios que registraram as maiores taxas de crescimento econômico no período analisado. Dica: veja o método .sort_values."
      ]
    },
    {
      "cell_type": "code",
      "execution_count": 34,
      "metadata": {
        "id": "JPNUsLGJHzjX"
      },
      "outputs": [],
      "source": [
        "#Ordenando a tabela pelo taxa de crescimento decrescente\n",
        "data_new = data_new.sort_values(by=['tx_pib'], ascending=False)\n"
      ]
    },
    {
      "cell_type": "code",
      "execution_count": 35,
      "metadata": {
        "id": "OIf8RxFtHzVq"
      },
      "outputs": [
        {
          "data": {
            "text/html": [
              "<div>\n",
              "<style scoped>\n",
              "    .dataframe tbody tr th:only-of-type {\n",
              "        vertical-align: middle;\n",
              "    }\n",
              "\n",
              "    .dataframe tbody tr th {\n",
              "        vertical-align: top;\n",
              "    }\n",
              "\n",
              "    .dataframe thead th {\n",
              "        text-align: right;\n",
              "    }\n",
              "</style>\n",
              "<table border=\"1\" class=\"dataframe\">\n",
              "  <thead>\n",
              "    <tr style=\"text-align: right;\">\n",
              "      <th>ano</th>\n",
              "      <th>PIBreal2010</th>\n",
              "      <th>PIBreal2017</th>\n",
              "      <th>tx_pib</th>\n",
              "    </tr>\n",
              "    <tr>\n",
              "      <th>cod_mun</th>\n",
              "      <th></th>\n",
              "      <th></th>\n",
              "      <th></th>\n",
              "    </tr>\n",
              "  </thead>\n",
              "  <tbody>\n",
              "    <tr>\n",
              "      <th>1508357</th>\n",
              "      <td>144392.4927</td>\n",
              "      <td>3088045.3760</td>\n",
              "      <td>2038.6468</td>\n",
              "    </tr>\n",
              "    <tr>\n",
              "      <th>2110302</th>\n",
              "      <td>113289.9331</td>\n",
              "      <td>1613452.5550</td>\n",
              "      <td>1324.1800</td>\n",
              "    </tr>\n",
              "    <tr>\n",
              "      <th>2203271</th>\n",
              "      <td>22751.4741</td>\n",
              "      <td>302191.7630</td>\n",
              "      <td>1228.2294</td>\n",
              "    </tr>\n",
              "    <tr>\n",
              "      <th>2408805</th>\n",
              "      <td>32379.1589</td>\n",
              "      <td>422974.6720</td>\n",
              "      <td>1206.3177</td>\n",
              "    </tr>\n",
              "    <tr>\n",
              "      <th>3520400</th>\n",
              "      <td>580569.7380</td>\n",
              "      <td>6153609.9080</td>\n",
              "      <td>959.9261</td>\n",
              "    </tr>\n",
              "    <tr>\n",
              "      <th>2401651</th>\n",
              "      <td>26093.9507</td>\n",
              "      <td>221585.9850</td>\n",
              "      <td>749.1853</td>\n",
              "    </tr>\n",
              "    <tr>\n",
              "      <th>3516853</th>\n",
              "      <td>99334.8459</td>\n",
              "      <td>839815.0560</td>\n",
              "      <td>745.4385</td>\n",
              "    </tr>\n",
              "    <tr>\n",
              "      <th>2103752</th>\n",
              "      <td>85704.7641</td>\n",
              "      <td>620435.1460</td>\n",
              "      <td>623.9214</td>\n",
              "    </tr>\n",
              "    <tr>\n",
              "      <th>2606200</th>\n",
              "      <td>1403419.5246</td>\n",
              "      <td>9146860.3780</td>\n",
              "      <td>551.7552</td>\n",
              "    </tr>\n",
              "    <tr>\n",
              "      <th>4316303</th>\n",
              "      <td>124032.6080</td>\n",
              "      <td>772169.5030</td>\n",
              "      <td>522.5536</td>\n",
              "    </tr>\n",
              "  </tbody>\n",
              "</table>\n",
              "</div>"
            ],
            "text/plain": [
              "ano      PIBreal2010  PIBreal2017    tx_pib\n",
              "cod_mun                                    \n",
              "1508357  144392.4927 3088045.3760 2038.6468\n",
              "2110302  113289.9331 1613452.5550 1324.1800\n",
              "2203271   22751.4741  302191.7630 1228.2294\n",
              "2408805   32379.1589  422974.6720 1206.3177\n",
              "3520400  580569.7380 6153609.9080  959.9261\n",
              "2401651   26093.9507  221585.9850  749.1853\n",
              "3516853   99334.8459  839815.0560  745.4385\n",
              "2103752   85704.7641  620435.1460  623.9214\n",
              "2606200 1403419.5246 9146860.3780  551.7552\n",
              "4316303  124032.6080  772169.5030  522.5536"
            ]
          },
          "execution_count": 35,
          "metadata": {},
          "output_type": "execute_result"
        }
      ],
      "source": [
        "#Criando e printando a tabela com os 10 municípios que registraram as maiores taxas\n",
        "maiores = data_new.head(10)\n",
        "maiores"
      ]
    },
    {
      "cell_type": "markdown",
      "metadata": {
        "id": "efLdijkyOf8L"
      },
      "source": [
        "**20 -** Apresente uma tabela com os 10 municípios que registraram as menores taxas de crescimento econômico (inclusive negativas) no período analisado."
      ]
    },
    {
      "cell_type": "code",
      "execution_count": 36,
      "metadata": {
        "id": "F8-GH2_zHzSx"
      },
      "outputs": [
        {
          "data": {
            "text/html": [
              "<div>\n",
              "<style scoped>\n",
              "    .dataframe tbody tr th:only-of-type {\n",
              "        vertical-align: middle;\n",
              "    }\n",
              "\n",
              "    .dataframe tbody tr th {\n",
              "        vertical-align: top;\n",
              "    }\n",
              "\n",
              "    .dataframe thead th {\n",
              "        text-align: right;\n",
              "    }\n",
              "</style>\n",
              "<table border=\"1\" class=\"dataframe\">\n",
              "  <thead>\n",
              "    <tr style=\"text-align: right;\">\n",
              "      <th>ano</th>\n",
              "      <th>PIBreal2010</th>\n",
              "      <th>PIBreal2017</th>\n",
              "      <th>tx_pib</th>\n",
              "    </tr>\n",
              "    <tr>\n",
              "      <th>cod_mun</th>\n",
              "      <th></th>\n",
              "      <th></th>\n",
              "      <th></th>\n",
              "    </tr>\n",
              "  </thead>\n",
              "  <tbody>\n",
              "    <tr>\n",
              "      <th>3304110</th>\n",
              "      <td>8055464.2731</td>\n",
              "      <td>2856763.8840</td>\n",
              "      <td>-64.5363</td>\n",
              "    </tr>\n",
              "    <tr>\n",
              "      <th>5107156</th>\n",
              "      <td>109892.2610</td>\n",
              "      <td>38630.9620</td>\n",
              "      <td>-64.8465</td>\n",
              "    </tr>\n",
              "    <tr>\n",
              "      <th>3301009</th>\n",
              "      <td>60219518.6207</td>\n",
              "      <td>21088776.6710</td>\n",
              "      <td>-64.9802</td>\n",
              "    </tr>\n",
              "    <tr>\n",
              "      <th>4207858</th>\n",
              "      <td>100449.9840</td>\n",
              "      <td>34930.9220</td>\n",
              "      <td>-65.2256</td>\n",
              "    </tr>\n",
              "    <tr>\n",
              "      <th>1715259</th>\n",
              "      <td>83616.6884</td>\n",
              "      <td>28874.5280</td>\n",
              "      <td>-65.4680</td>\n",
              "    </tr>\n",
              "    <tr>\n",
              "      <th>2905404</th>\n",
              "      <td>2175246.8334</td>\n",
              "      <td>623656.8320</td>\n",
              "      <td>-71.3294</td>\n",
              "    </tr>\n",
              "    <tr>\n",
              "      <th>3304151</th>\n",
              "      <td>5901594.1312</td>\n",
              "      <td>1443693.6490</td>\n",
              "      <td>-75.5372</td>\n",
              "    </tr>\n",
              "    <tr>\n",
              "      <th>2915205</th>\n",
              "      <td>597694.6292</td>\n",
              "      <td>130338.9600</td>\n",
              "      <td>-78.1931</td>\n",
              "    </tr>\n",
              "    <tr>\n",
              "      <th>3126307</th>\n",
              "      <td>422820.8868</td>\n",
              "      <td>67237.2370</td>\n",
              "      <td>-84.0979</td>\n",
              "    </tr>\n",
              "    <tr>\n",
              "      <th>3200409</th>\n",
              "      <td>6903729.5440</td>\n",
              "      <td>804889.3310</td>\n",
              "      <td>-88.3412</td>\n",
              "    </tr>\n",
              "  </tbody>\n",
              "</table>\n",
              "</div>"
            ],
            "text/plain": [
              "ano       PIBreal2010   PIBreal2017   tx_pib\n",
              "cod_mun                                     \n",
              "3304110  8055464.2731  2856763.8840 -64.5363\n",
              "5107156   109892.2610    38630.9620 -64.8465\n",
              "3301009 60219518.6207 21088776.6710 -64.9802\n",
              "4207858   100449.9840    34930.9220 -65.2256\n",
              "1715259    83616.6884    28874.5280 -65.4680\n",
              "2905404  2175246.8334   623656.8320 -71.3294\n",
              "3304151  5901594.1312  1443693.6490 -75.5372\n",
              "2915205   597694.6292   130338.9600 -78.1931\n",
              "3126307   422820.8868    67237.2370 -84.0979\n",
              "3200409  6903729.5440   804889.3310 -88.3412"
            ]
          },
          "execution_count": 36,
          "metadata": {},
          "output_type": "execute_result"
        }
      ],
      "source": [
        "menores = data_new.tail(10)\n",
        "menores"
      ]
    }
  ],
  "metadata": {
    "colab": {
      "collapsed_sections": [],
      "name": "Sophia_Sales_Reis_Gonçalves_ 20211011799.ipynb",
      "provenance": []
    },
    "kernelspec": {
      "display_name": "Python 3",
      "name": "python3"
    },
    "language_info": {
      "codemirror_mode": {
        "name": "ipython",
        "version": 3
      },
      "file_extension": ".py",
      "mimetype": "text/x-python",
      "name": "python",
      "nbconvert_exporter": "python",
      "pygments_lexer": "ipython3",
      "version": "3.9.10"
    }
  },
  "nbformat": 4,
  "nbformat_minor": 0
}
