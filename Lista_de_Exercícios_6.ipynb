{
  "cells": [
    {
      "cell_type": "markdown",
      "metadata": {
        "id": "uXyJpSeF8soA"
      },
      "source": [
        "#### NumPy - vetores, matrizes e arrays"
      ]
    },
    {
      "cell_type": "markdown",
      "metadata": {},
      "source": [
        "### Questão"
      ]
    },
    {
      "cell_type": "markdown",
      "metadata": {
        "id": "L1ws2HL7mf5K"
      },
      "source": [
        "\n",
        "#### Matriz Insumo-Produto\n",
        "\n",
        "**Demanda intermediária**\n",
        "\n",
        "|Vendas/Despesas | Setor 1 | Setor 2 | Subtotal|\n",
        "|---|---|---|---|\n",
        "|Setor 1| 20 | 90 | 110|\n",
        "|Setor 2| 40 | 180 | 220 |\n",
        "|Subtotal| 60 | 270 | 330|\n",
        "\n",
        "Dado que os valores brutos da produção dos setores 1 e 2 são, respectivamente, 200 e 600, e que as demandas finais são 90 e 380, encontre os multiplicadores setoriais.\n",
        "\n",
        "#### Algoritmo de solução\n",
        "\n",
        "$$ x = (I-A)^{-1}c $$\n",
        "\n",
        "- x - vetor de produção setorial\n",
        "- A - matriz de coeficientes técnicos de produção\n",
        "- c - vetor de demanda setorial\n",
        "\n",
        "Observação: Veja Simon & Blume - Matemática para Econmistas. Cap. 8.5, p. 183-187.\n",
        "\n"
      ]
    },
    {
      "cell_type": "markdown",
      "metadata": {
        "id": "AGA5SUBnVfw3"
      },
      "source": [
        "### Resolução"
      ]
    },
    {
      "cell_type": "code",
      "execution_count": 1,
      "metadata": {},
      "outputs": [],
      "source": [
        "#Importando biblioteca\n",
        "import numpy as np  "
      ]
    },
    {
      "cell_type": "markdown",
      "metadata": {},
      "source": [
        "#### Matrizes de Demanda Intermediária, dos Valores Brutos de Produção e Demanda Final "
      ]
    },
    {
      "cell_type": "code",
      "execution_count": 2,
      "metadata": {},
      "outputs": [],
      "source": [
        "#Matriz de Demanda Intermediária\n",
        "dem_int = np.array([[20,90],[40,180]])\n",
        "\n",
        "#Matriz-coluna dos valores brutos de produção\n",
        "output = np.array([[200],[600]])\n",
        "\n",
        "#Matriz-coluna de Demanda Final\n",
        "dem_final = np.array([[90],[380]])"
      ]
    },
    {
      "cell_type": "markdown",
      "metadata": {},
      "source": [
        "#### Matriz de Coeficientes Técnicos\n",
        "\n",
        "**Definição:**  indica as proporções da origem e do destino dos insumos e \n",
        "produtos da economia. Corresponde a uma matriz que revela toda a estrutura de demanda intermediária, indicando o grau de dependência\n",
        "de cada setor em relação aos demais (ROSSETTI, 1992)."
      ]
    },
    {
      "cell_type": "code",
      "execution_count": 3,
      "metadata": {},
      "outputs": [
        {
          "name": "stdout",
          "output_type": "stream",
          "text": [
            "[[0.1  0.15]\n",
            " [0.2  0.3 ]]\n"
          ]
        }
      ],
      "source": [
        "coef_tec = dem_int.dot(np.linalg.inv(output*np.identity(2)))\n",
        "print(coef_tec)"
      ]
    },
    {
      "cell_type": "markdown",
      "metadata": {},
      "source": [
        "#### Matriz Inversa de Leontief"
      ]
    },
    {
      "cell_type": "code",
      "execution_count": 4,
      "metadata": {},
      "outputs": [
        {
          "name": "stdout",
          "output_type": "stream",
          "text": [
            "[[1.16666667 0.25      ]\n",
            " [0.33333333 1.5       ]]\n"
          ]
        }
      ],
      "source": [
        "inversa = np.linalg.inv(np.subtract(np.identity(2), coef_tec))\n",
        "print(inversa)"
      ]
    },
    {
      "cell_type": "markdown",
      "metadata": {},
      "source": [
        "#### Multiplicadores setoriais\n",
        "**Definição:** os multiplicadores setoriais são indicadores obtidos a partir da matriz inversa de Leontief ([I - A])$^{-1}$. Obtêm-se os multiplicadores econômicos de cada setor ao somar-se os vetores-coluna dessa matriz (Talamini e Pedrozo, 2017). "
      ]
    },
    {
      "cell_type": "code",
      "execution_count": 5,
      "metadata": {},
      "outputs": [
        {
          "name": "stdout",
          "output_type": "stream",
          "text": [
            "[1.5  1.75]\n"
          ]
        }
      ],
      "source": [
        "mult = np.ndarray.sum(inversa, axis=0) \n",
        "print(mult)"
      ]
    },
    {
      "cell_type": "markdown",
      "metadata": {},
      "source": [
        "#### Conferindo o resultado\n",
        "\n",
        "**Fórmula:** X = ([I - A])$^{-1}$C"
      ]
    },
    {
      "cell_type": "code",
      "execution_count": 6,
      "metadata": {},
      "outputs": [
        {
          "name": "stdout",
          "output_type": "stream",
          "text": [
            "[[200.]\n",
            " [600.]]\n"
          ]
        }
      ],
      "source": [
        "x = inversa.dot(dem_final)\n",
        "print(x)"
      ]
    },
    {
      "cell_type": "markdown",
      "metadata": {},
      "source": [
        "#### Referências\n",
        "\n",
        "TALAMINI, Edson; PEDROZO, Eugênio Ávila. MATRIZ DE INSUMO-PRODUTO (MIP) E ALGUNS INDICADORES PARA GESTÃO E PLANEJAMENTO DE PROPRIEDADES RURAIS: UMA APLICAÇÃO PRÁTICA. 2004.\n",
        "\n",
        "ROSSETTI, José Paschoal. CONTABILIDADE SOCIAL. 7 ed. São Paulo: Atlas, 1992."
      ]
    }
  ],
  "metadata": {
    "colab": {
      "collapsed_sections": [],
      "name": "6a_lista_de_exercícios.ipynb",
      "provenance": []
    },
    "interpreter": {
      "hash": "1baa965d5efe3ac65b79dfc60c0d706280b1da80fedb7760faf2759126c4f253"
    },
    "kernelspec": {
      "display_name": "Python 3.8.2 64-bit",
      "language": "python",
      "name": "python3"
    },
    "language_info": {
      "codemirror_mode": {
        "name": "ipython",
        "version": 3
      },
      "file_extension": ".py",
      "mimetype": "text/x-python",
      "name": "python",
      "nbconvert_exporter": "python",
      "pygments_lexer": "ipython3",
      "version": "3.9.10"
    },
    "orig_nbformat": 4
  },
  "nbformat": 4,
  "nbformat_minor": 0
}
