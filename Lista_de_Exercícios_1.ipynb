{
  "cells": [
    {
      "cell_type": "code",
      "execution_count": 1,
      "metadata": {
        "id": "KHSNFhzYZ2uv"
      },
      "outputs": [],
      "source": [
        "#Bibliotecas\n",
        "import math"
      ]
    },
    {
      "cell_type": "markdown",
      "metadata": {
        "id": "t22C_s9OaDFb"
      },
      "source": [
        "1- Fazer um código para checar se um número digitado é positivo, negativo ou zero."
      ]
    },
    {
      "cell_type": "code",
      "execution_count": null,
      "metadata": {
        "id": "F2dHVvLHaJdF"
      },
      "outputs": [],
      "source": [
        "numero = float(input(\"Digite um número: \\n \"))\n",
        "if numero > 0:\n",
        "   print(\"Esse número é positivo.\")\n",
        "elif numero == 0:\n",
        "   print(\"Esse número é o zero.\")\n",
        "else:\n",
        "   print(\"Esse número é negativo.\")"
      ]
    },
    {
      "cell_type": "markdown",
      "metadata": {
        "id": "8qzrq4E6aNzF"
      },
      "source": [
        "2- Fazer um código para checar se um número digitado é par ou ímpar."
      ]
    },
    {
      "cell_type": "code",
      "execution_count": null,
      "metadata": {
        "id": "9K-BTKnzaRNO"
      },
      "outputs": [],
      "source": [
        "numero = float(input(\"Digite um número: \\n \"))\n",
        "if (numero % 2 == 0):\n",
        "    print(\"Esse número é par.\")\n",
        "else: \n",
        "    print(\"Esse número é impar.\")"
      ]
    },
    {
      "cell_type": "markdown",
      "metadata": {
        "id": "6Sy_4aGcaUWz"
      },
      "source": [
        "3- Faça um programa que pergunte o quanto você ganha por hora e o total de horas trabalhadas por mês. Calcule e mostre o total do seu salário no mês."
      ]
    },
    {
      "cell_type": "code",
      "execution_count": null,
      "metadata": {
        "id": "c4Zp0XmDaTbZ"
      },
      "outputs": [],
      "source": [
        "nome = input(\"Informe seu nome: \\n\")\n",
        "valor = float(input(\"Quanto você ganha por hora?: \\n \"))\n",
        "horas = float(input(\"Quantas horas você trabalha?: \\n \"))\n",
        "\n",
        "salario = valor*horas\n",
        "\n",
        "print(f\"\"\"{nome}, o seu salário no mês é igual a R$ {salario:.2f}.\"\"\")"
      ]
    },
    {
      "cell_type": "markdown",
      "metadata": {
        "id": "Jm8ztTbCaa83"
      },
      "source": [
        "4- Faça um programa para uma loja de tintas. O programa deverá pedir o tamanho em metros quadrados da área a ser pintada. Considere que a cobertura da tinta é de 1 litro para cada 3 metros quadrados e que a tinta é vendida em latas de 18 litros, que custam 80,00. Informe ao usuário a quantidades de latas de tinta a serem compradas e o preço total."
      ]
    },
    {
      "cell_type": "code",
      "execution_count": null,
      "metadata": {
        "id": "k48apZGWadHa"
      },
      "outputs": [],
      "source": [
        "while(True):\n",
        "    try:\n",
        "      tamanho = float(input(\"Informe o tamanho em metros quadrados da aréa a ser pintada: \"))\n",
        "    except ValueError:\n",
        "            print(\"Essa entrada não é válida. Apenas números são aceitos.\")\n",
        "            continue\n",
        "    if tamanho <= 0:\n",
        "        print(\"Zero ou números negativos não são aceitos\")\n",
        "        continue\n",
        "    else:\n",
        "      qtde_galoes = math.ceil(tamanho/54)\n",
        "      custo = (qtde_galoes)*80\n",
        "      print(f\"\"\"O custo da aréa pintada é igual a R$ {custo:.2f}.\"\"\")\n",
        "    break\n"
      ]
    },
    {
      "cell_type": "markdown",
      "metadata": {
        "id": "-yRfr8v7af_u"
      },
      "source": [
        "5- Faça outro programa para loja de tintas. O programa deverá pedir o tamanho em metros quadrados da área a ser pintada. Considere que a cobertura da tinta é de 1 litro para cada 6 metros quadrados e que a tinta é vendida em latas de 18 litros, que custam 80,00 ou em galões de 4 litros, que custam 25,00. Informe ao usuário as quantidades de tinta a serem compradas e os respectivos preços em 3 situações: comprar apenas latas de 18 litros; comprar apenas galões de 4 litros; mistrurar latas e galões."
      ]
    },
    {
      "cell_type": "code",
      "execution_count": null,
      "metadata": {
        "id": "9blQU5BOj3ln"
      },
      "outputs": [],
      "source": [
        "while(True):\n",
        "    try:\n",
        "        tamanho = float(input(\"Informe o tamanho em metros quadrados da aréa a ser pintada: \"))\n",
        "    except ValueError:\n",
        "            print(\"Essa entrada não é válida. Apenas números são aceitos.\")\n",
        "            continue\n",
        "    if tamanho <= 0:\n",
        "        print(\"Zero ou números negativos não são aceitos\")\n",
        "        continue\n",
        "    else:\n",
        "        #Considerando apenas galões\n",
        "        qtde_galao = math.ceil(tamanho/104)\n",
        "        custo_galao = (qtde_galao)*80\n",
        "\n",
        "        #Considerando apenas latas\n",
        "        qtde_lata = math.ceil(tamanho/24)\n",
        "        custo_lata = qtde_lata *25\n",
        "\n",
        "        #Misturando latas e galoes \n",
        "        divisão = tamanho/2\n",
        "        qtde_lata_2 = math.ceil(divisão/24)\n",
        "        custo_lata_2 = qtde_lata_2 *25\n",
        "\n",
        "        qtde_galao_2 = math.ceil(divisão/104)\n",
        "        custo_galao_2 = (qtde_galao_2)*80\n",
        "        custo_mistura = custo_lata_2 + custo_galao_2\n",
        "\n",
        "        print(\"Segue-se o orçamento considerando todas as possibilidades de compra:\")\n",
        "\n",
        "        print(f\"\"\"O custo da aréa pintada optando pela compra somente de galões corresponde a R$ {custo_galao:.2f}.\"\"\")\n",
        "\n",
        "        print(f\"\"\"O custo da aréa pintada optando pela compra somente de latas corresponde a R$ {custo_lata:.2f}.\"\"\")\n",
        "\n",
        "        print(f\"\"\"O custo da aréa pintada optando pela compra de galões e latas corresponde a R$ {custo_mistura:.2f}.\"\"\")\n",
        "\n",
        "        #Recomendação\n",
        "        print(\"Recomendação:\")\n",
        "        if custo_galao < custo_lata and custo_galao < custo_mistura:\n",
        "            print(\"Portanto dentre os preços, o menor valor encontrado corresponde a compra optando somente por galões.\")\n",
        "        elif custo_lata < custo_galao and custo_lata < custo_mistura:\n",
        "            print(\"Portanto dentre os preços, o menor valor encontrado corresponde a compra optando somente por latas.\")\n",
        "        else:\n",
        "            custo_mistura < custo_galao and custo_mistura < custo_lata\n",
        "            print(\"Portanto, dentre os preços, o menor valor encontrado corresponde a compra optando por misturar latas e galões.\")\n",
        "        break\n"
      ]
    },
    {
      "cell_type": "markdown",
      "metadata": {
        "id": "lov_xc2xam8Q"
      },
      "source": [
        "6- Faça um programa de matemática financeira, para simular o valor de uma prestação do veículo, com as seguintes entradas: a) valor do produto; b) Entrada; c) Número de prestações a.m. para pagamento do saldo; d) taxa de juros a.m. Para sua realização, assuma um regime de juros composto."
      ]
    },
    {
      "cell_type": "code",
      "execution_count": null,
      "metadata": {
        "id": "WwEy-daUayKY"
      },
      "outputs": [],
      "source": [
        "# Valor do produto\n",
        "valor_carro = float(input(\"Informe o valor do veículo: \"))\n",
        "\n",
        "# Entrada\n",
        "entrada = float(input(\"Informe o valor que você está disposto a dar de entrada: \"))\n",
        "\n",
        "# Valor com a entrada\n",
        "descontado = valor_carro - entrada\n",
        "\n",
        "# Quantidade de prestações\n",
        "prestacoes = int(input(\"Informe a quantidade de prestações que você deseja: \"))\n",
        "\n",
        "taxa_juros = float(input(\"Informe a taxa de juros de interesse. i.e 1.5 para 1.5%: \"))\n",
        "\n",
        "# Calculo de juros composto\n",
        "VF = descontado * ( 1 +  taxa_juros  / 100)**prestacoes\n",
        "\n",
        "print(f\"\"\"O valor total de um veículo financiado de R${valor_carro: .2f}, com uma entrada de R${entrada: .2f}, \n",
        "pago em {prestacoes} prestações a uma taxa de juros de {taxa_juros: .2f}% é igual a {VF:.2f}\"\"\")\n",
        " "
      ]
    },
    {
      "cell_type": "markdown",
      "metadata": {
        "id": "Pc4ZOaezapWU"
      },
      "source": [
        "7- Faça um Programa que peça as 4 notas bimestrais, mostre a média e o status do aluno (aprovado, reprovado, final)."
      ]
    },
    {
      "cell_type": "code",
      "execution_count": null,
      "metadata": {
        "id": "JYpqLPL_bWN-"
      },
      "outputs": [],
      "source": [
        "#Contador\n",
        "n = 1 \n",
        "\n",
        "#Acumulador\n",
        "soma = 0 \n",
        "\n",
        "#Looping while \n",
        "while n <= 4: \n",
        "    nota = float(input(f\"Informe a nota da prova {n}: \"))\n",
        "    #Acumulador\n",
        "    soma += nota #soma = soma + nota \n",
        "    #Contador será incrementado em 1 unidade\n",
        "    n += 1 #n = n + 1\n",
        "\n",
        "#Volto para o escopo global\n",
        "#Imprimir a média global\n",
        "media = soma/4\n",
        "\n",
        "#A média e o status do aluno \n",
        "if media >= 6:\n",
        "    print(f\"\"\"A média do aluno durante o ano letivo foi igual a {media:.1f}. Portanto, o aluno foi aprovado.\"\"\")\n",
        "elif media >= 4 and media < 6:\n",
        "    print(f\"\"\"A média do aluno durante o ano letivo foi igual a {media:.1f}.Portanto, o aluno foi para a final.\"\"\")\n",
        "else:\n",
        "    print(f\"\"\"A média do aluno durante o ano letivo foi igual a {media:.1f}. Portanto, o aluno foi reprovado.\"\"\")"
      ]
    },
    {
      "cell_type": "markdown",
      "metadata": {
        "id": "-lXHOQbUbsLE"
      },
      "source": [
        "8- Tendo como dados de entrada a altura e o peso de uma pessoa, construa um algoritmo que calcule seu peso ideal (usando a fórmula do IMC) e informe se ela está dentro, acima ou abaixo do peso."
      ]
    },
    {
      "cell_type": "code",
      "execution_count": null,
      "metadata": {
        "id": "ajLCyLMjbuDv"
      },
      "outputs": [],
      "source": [
        "#Solicitar dados do usuário\n",
        "nome = input(\"Informe seu nome: \\n\")\n",
        "peso = float(input(\"Informe seu peso (kg): \\n\"))\n",
        "altura = float(input(\"Informe seu altura (metros): \\n\"))\n",
        "\n",
        "\n",
        "# Calcular IMC\n",
        "imc = peso/ altura**2\n",
        "\n",
        "#O peso ideal dentro da escala de IMC considerando a média do intervalo saudável do IMC\n",
        "peso_ideal  = (altura**2) * 21.75\n",
        "\n",
        "if imc < 18.5:\n",
        "    condicao = 'Além disso, é informado que seu peso está abaixo do considerado saudável pelo IMC.'\n",
        "elif imc >= 18.5 and imc <= 25:\n",
        "    condicao =  '''Além disso, é informado que seu peso está dentro faixa considerada como saudável pelo IMC.'''\n",
        "else:\n",
        "    imc > 25\n",
        "    condicao = 'Além disso, é informado que seu peso está acima do considerado saudável pelo IMC.'\n",
        "\n",
        "print(f\"\"\"{nome}, o seu peso ideal é igual a {peso_ideal:.2f}kg. {condicao}\"\"\")"
      ]
    },
    {
      "cell_type": "markdown",
      "metadata": {
        "id": "47SYLxjMtYgm"
      },
      "source": [
        "9 - Faça um Programa que pergunte quanto você ganha por hora e o número de horas trabalhadas no mês. Calcule e mostre o total do seu salário no referido mês, sabendo-se que são descontados 11% para o Imposto de Renda, 8% para o INSS e 5% para o sindicato, faça um programa que nos dê: a) salário bruto. b) valor pago de INSS. c) contribuição do sindicato. d) salário líquido."
      ]
    },
    {
      "cell_type": "code",
      "execution_count": null,
      "metadata": {
        "id": "97IohNPZtcs4"
      },
      "outputs": [],
      "source": [
        "salario = float(input(\"Informe o quanto você ganha por hora: \\n \"))\n",
        "horas = float(input(\"Informe o número de horas trabalhadas no presente mês: \\n \"))\n",
        "\n",
        "sal_bruto = salario*horas\n",
        "imposto_renda = sal_bruto*0.11\n",
        "inss = sal_bruto*0.08\n",
        "sindicato = sal_bruto*0.05\n",
        "\n",
        "sal_liquido = sal_bruto - imposto_renda - inss - sindicato\n",
        "\n",
        "print(f\"\"\"Prezado(a), o seu salário bruto correspondeu R${sal_bruto: .2f}. \n",
        "As contribuções referentes ao INSS e ao sindicato são iguais a, respectivamente, R${inss: .2f} e R${sindicato: .2f}. \n",
        "Portanto, considerando os valores descontados conjutamente com o pagamento do imposto de renda, o seu salário líquido é igual a R${sal_liquido: .2f}.\"\"\")"
      ]
    },
    {
      "cell_type": "markdown",
      "metadata": {
        "id": "T5x5UvQJtdK0"
      },
      "source": [
        "10- Verifique se a entrada digitada é numérica, texto, alfanumérica e se possui algum caracter especial."
      ]
    },
    {
      "cell_type": "code",
      "execution_count": null,
      "metadata": {
        "id": "HOyKDjMLtf1Q"
      },
      "outputs": [],
      "source": [
        "entrada = (input(\"Digite uma entrada qualquer e descubra qual tipo de caracter é: \"))\n",
        "\n",
        "if entrada.isnumeric():\n",
        "    print(f\"A entrada {entrada} corresponde a um número.\") \n",
        "elif entrada.isalpha():\n",
        "    print(f\"A entrada {entrada} corresponde a um alphanúmerico.\")\n",
        "else:\n",
        "    print(f\"A entrada {entrada} corresponde a um caracter especial.\")"
      ]
    },
    {
      "cell_type": "markdown",
      "metadata": {
        "id": "YRIqxE-htgU6"
      },
      "source": [
        "11- Faça um Programa que verifique se uma letra digitada é \"F\" ou \"M\". Conforme a letra escrever: F - Feminino, M - Masculino. Para quaisquer outra string, inserir: Sexo Inválido."
      ]
    },
    {
      "cell_type": "code",
      "execution_count": null,
      "metadata": {
        "id": "JtJf_pw9tiPC"
      },
      "outputs": [],
      "source": [
        "genero = input(\"Considerando F como Feminino e M como Masculino. Informe seu sexo: \")\n",
        "\n",
        "if genero == \"F\" or genero == \"f\":\n",
        "    print(\"Sexo Feminino.\")\n",
        "elif genero == \"M\" or genero == \"m\":\n",
        "    print(\"Sexo Masculino.\")\n",
        "else: print(\"Sexo Inválido.\")"
      ]
    },
    {
      "cell_type": "markdown",
      "metadata": {
        "id": "lCeww4M-tiy8"
      },
      "source": [
        "12- Faça um programa que pergunte o preço de três produtos e informe qual produto você deve comprar, sabendo que a decisão é sempre pelo mais barato."
      ]
    },
    {
      "cell_type": "code",
      "execution_count": null,
      "metadata": {
        "id": "cjzHjgEhtof6"
      },
      "outputs": [],
      "source": [
        "produto_1 = float(input(\"Informe o preço do produto 1: \"))\n",
        "produto_2 = float(input(\"Informe o preço do produto 2: \"))\n",
        "produto_3 = float(input(\"Informe o preço do produto 3: \"))\n",
        "\n",
        "if produto_1 < produto_2 and produto_1 < produto_3:\n",
        "            print(\"O produto com menor preço é o 1º informado.\")\n",
        "if produto_2 < produto_1 and produto_2 < produto_3:\n",
        "            print(\"O produto com menor preço é o 2º informado.\")\n",
        "if produto_3 < produto_1 and produto_3 < produto_2:\n",
        "    print(\"O produto com menor preço é o 3º informado.\")"
      ]
    },
    {
      "cell_type": "markdown",
      "metadata": {
        "id": "Mknu3V1btoxz"
      },
      "source": [
        "13- Faça um Programa que peça as 4 notas bimestrais, mostre a média e apresente as seguintes mensagens:\n",
        "\n",
        "\"Aprovado\", se a média alcançada for maior ou igual a sete;\n",
        "\"Reprovado\", se a média for menor do que sete;\n",
        "\"Final\", se a média for entre 4 e 6.9;\n",
        "\"Aprovado com Distinção\", se a média for igual a dez.\n",
        "Resolva esse programa usando: a) apenas if, b) else if, c) estruturas aninhadas."
      ]
    },
    {
      "cell_type": "code",
      "execution_count": null,
      "metadata": {
        "id": "BE8WGHPwtrBc"
      },
      "outputs": [],
      "source": [
        "#Resolução a: apenas if\n",
        "n = 1\n",
        "\n",
        "#Definindo a soma\n",
        "soma = 0\n",
        "\n",
        "while n <= 4: \n",
        "    nota = float(input(f\"Informe a nota {n}ª prova: \"))\n",
        "    #Acumulador\n",
        "    soma += nota \n",
        "    #Contador \n",
        "    n += 1 \n",
        "\n",
        "#Calculando a média \n",
        "media = soma/4\n",
        "\n",
        "\n",
        "#A média e o status do aluno \n",
        "if media >= 7 and media <10:\n",
        "    print(f\"\"\"A média do aluno durante o ano letivo foi igual a {media:.1f}. Portanto, o aluno foi aprovado.\"\"\")\n",
        "if media >= 4.0 and media < 7:\n",
        "    print(f\"\"\"A média do aluno durante o ano letivo foi igual a {media:.1f}. Portanto, o aluno foi para a final.\"\"\")\n",
        "if media ==  10:\n",
        "    print(f\"\"\"A média do aluno durante o ano letivo foi igual a {media:.1f}. Portanto, o aluno foi aprovado com distinção.\"\"\")\n",
        "if media < 4 :\n",
        "    print(f\"\"\"A média do aluno durante o ano letivo foi igual a {media:.1f}. Portanto, o aluno foi reprovado.\"\"\")\n",
        "\n",
        "#Observação: para essa questão dar certo com apenas if, necessita-se considerar que o aluno só será reprovado caso a nota seja menor do que 4, dado que entre 4 e 6.9 vai para final. \n",
        "#Caso contrário irá aparecer respostas com duplicidade. "
      ]
    },
    {
      "cell_type": "code",
      "execution_count": null,
      "metadata": {
        "id": "b7riPgjARobV"
      },
      "outputs": [],
      "source": [
        "#Resolução b: else if\n",
        "\n",
        "n = 1\n",
        "\n",
        "#Definindo a soma\n",
        "soma = 0\n",
        "\n",
        "while n <= 4: \n",
        "    nota = float(input(f\"Informe a nota {n}ª prova: \"))\n",
        "    #Acumulador\n",
        "    soma += nota \n",
        "    #Contador \n",
        "    n += 1 \n",
        "\n",
        "#Imprimir a média global\n",
        "media = soma/4\n",
        "\n",
        "\n",
        "#A média e o status do aluno \n",
        "if media >= 7 and media < 10:\n",
        "    print(f\"A média do aluno durante o ano letivo foi igual a {media:.1f}. Portanto, o  aluno foi aprovado.\")\n",
        "else: \n",
        "      if media >= 4.0 and media < 7: \n",
        "         print(f\"A média do aluno durante o ano letivo foi igual a {media:.1f}. Portanto, o aluno foi para a final.\")\n",
        "      if media < 4:\n",
        "        print(f\"A média do aluno durante o ano letivo foi igual a {media:.1f}. Portanto, o aluno foi reprovado.\") \n",
        "      if media == 10:\n",
        "         print(f\"A média do aluno durante o ano letivo foi igual a {media:.1f}. Portanto, o aluno foi aprovado com distinção.\")\n",
        "\n",
        "#Observação: para essa questão dar certo com if e else, necessita-se considerar que o aluno só será reprovado caso a nota seja menor do que 4, dado que entre 4 e 6.9 vai para final. \n",
        "#Caso contrário irá aparecer respostas com duplicidade. "
      ]
    },
    {
      "cell_type": "code",
      "execution_count": null,
      "metadata": {
        "id": "swzHmQEOOS3i"
      },
      "outputs": [],
      "source": [
        "#Resolução com estruturas alinhadas\n",
        "\n",
        "n = 1\n",
        "\n",
        "#Definindo a soma\n",
        "soma = 0\n",
        "\n",
        "while n <= 4: \n",
        "    nota = float(input(f\"Informe a nota {n}ª prova: \"))\n",
        "    #Acumulador\n",
        "    soma += nota \n",
        "    #Contador \n",
        "    n += 1 \n",
        "\n",
        "#Imprimir a média global\n",
        "media = soma/4\n",
        "\n",
        "#A média e o status do aluno \n",
        "if media >= 7 and media < 10:\n",
        "    print(f\"A média do aluno durante o ano letivo foi igual a {media:.1f}.Portanto, o aluno foi aprovado.\")\n",
        "elif media >= 4.0 and media < 7:\n",
        "    print(f\"A média do aluno durante o ano letivo foi igual a {media:.1f}. Portanto, o aluno foi para a final.\")\n",
        "elif media == 10:\n",
        "    print(f\"A média do aluno durante o ano letivo foi igual a {media:.1f}. Portanto, o aluno foi aprovado com distinção.\")\n",
        "else: \n",
        "    print(f\"A média do aluno durante o ano letivo foi igual a {media:.1f}. Portanto, o aluno foi reprovado.\")"
      ]
    },
    {
      "cell_type": "markdown",
      "metadata": {
        "id": "toqxpSBitrWT"
      },
      "source": [
        "14- Tendo como dados de entrada a altura e o peso de uma pessoa, construa um algoritmo que calcule um intervalo de peso ideal e informe se ela está dentro, acima ou abaixo do peso.\n",
        "Dica: use a fórmula do IMC, considerando o estrato eutrófico como referência para as estimativas."
      ]
    },
    {
      "cell_type": "code",
      "execution_count": null,
      "metadata": {
        "id": "Ng25ZmbOtyaV"
      },
      "outputs": [],
      "source": [
        "#Solicitar dados do usuário\n",
        "nome = input(\"Informe seu nome: \\n\")\n",
        "peso = float(input(\"Informe seu peso (kg): \\n\"))\n",
        "altura = float(input(\"Informe seu altura (metros): \\n\"))\n",
        "\n",
        "\n",
        "# Calcular IMC\n",
        "imc = peso/ altura**2\n",
        "\n",
        "#O peso ideal dentro da escala de IMC corresponde a valores entre 18.5 a 25.\n",
        "peso_min_ideal  = (altura**2) * 18.5\n",
        "peso_max_ideal  = (altura**2) * 25\n",
        "\n",
        "\n",
        "if imc < 18.5:\n",
        "    condicao = 'seu peso está abaixo do considerado saudável pelo IMC.'\n",
        "elif imc >= 18.5 and imc <= 25:\n",
        "    condicao =  'seu peso está dentro faixa considerada como saudável pelo IMC.'\n",
        "else:\n",
        "    imc > 25\n",
        "    condicao = 'seu peso está acima do considerado saudável pelo IMC.'\n",
        "\n",
        "print(f\"\"\"{nome}, o peso ideal para você está entre {peso_min_ideal:.2f}kg e {peso_max_ideal:.2f}kg. \n",
        "Portanto, {condicao}\"\"\")"
      ]
    },
    {
      "cell_type": "markdown",
      "metadata": {
        "id": "5QtOOQiOtyxi"
      },
      "source": [
        "15- Faça um programa que calcule as raízes de uma equação do segundo grau, na forma ax2 + bx + c. O programa deverá pedir os valores de a, b e c e fazer as consistências, informando ao usuário nas seguintes situações:\n",
        "\n",
        "a.    Se o usuário informar o valor de A igual a zero, a equação não é do segundo grau e o programa não deve fazer pedir os demais valores, sendo encerrado;\n",
        " \n",
        "b.    Se o delta calculado for negativo, a equação não possui raizes reais. Informe ao usuário e encerre o programa;\n",
        " \n",
        "c.    Se o delta calculado for igual a zero a equação possui apenas uma raiz real; informe-a ao usuário;\n",
        " \n",
        "d.    Se o delta for positivo, a equação possui duas raiz reais; informe-as ao usuário;"
      ]
    },
    {
      "cell_type": "code",
      "execution_count": null,
      "metadata": {
        "id": "4cx0aBJ0t94Q"
      },
      "outputs": [],
      "source": [
        "print(\"Considere uma equação de segundo grau com a seguinte forma: ax² + bx + c \")\n",
        "while True:\n",
        "    a = float(input(f\"Informe o valor de a: \"))\n",
        "    if a == 0:\n",
        "        print(\"A equação informada não é de segundo grau.\")\n",
        "        break\n",
        "    b = float(input(f\"Informe o valor de b: \"))\n",
        "    c = float(input(f\"Informe o valor de c: \"))\n",
        "    delta = b * b - 4 * a * c \n",
        "    if delta < 0:\n",
        "        print(\"A equação não possui raízes reais.\")\n",
        "        break\n",
        "    if delta == 0:\n",
        "      x = (-b+math.sqrt(b**2-4*a*c))/2*a\n",
        "      print(f\"A equação informada possui apenas uma raiz igual a {x: .2f}\")\n",
        "      break\n",
        "    if delta > 0:\n",
        "      x1 = (-b+math.sqrt((b**2)-(4*(a*c))))/(2*a)\n",
        "      x2 = (-b-math.sqrt((b**2)-(4*(a*c))))/(2*a)\n",
        "      print(f\"A equação informada possui duas raízes iguais a {x1: .2f} ou {x2: .2f}\")\n",
        "      break\n"
      ]
    },
    {
      "cell_type": "markdown",
      "metadata": {
        "id": "2HiFeFoht-LK"
      },
      "source": [
        "16- Faça um Programa para um caixa eletrônico. O programa deverá perguntar ao usuário a valor do saque e depois informar quantas notas de cada valor serão fornecidas. As notas disponíveis serão as de 1, 5, 10, 50 e 100 reais. O valor mínimo é de 10 reais e o máximo de 600 reais. O programa não deve se preocupar com a quantidade de notas existentes na máquina.\n",
        "\n",
        "Exemplo 1: Para sacar a quantia de 256 reais, o programa fornece duas notas de 100, uma nota de 50, uma nota de 5 e uma nota de 1;\n",
        "\n",
        "Exemplo 2: Para sacar a quantia de 399 reais, o programa fornece três notas de 100, uma nota de 50, quatro notas de 10, uma nota de 5 e quatro notas de 1."
      ]
    },
    {
      "cell_type": "code",
      "execution_count": null,
      "metadata": {
        "id": "IokEMrQNuAtG"
      },
      "outputs": [],
      "source": [
        "saque = float(input(\"Digite o valor do saque: \"))\n",
        "\n",
        "#Condição\n",
        "if 10 <= saque <= 600:\n",
        "\n",
        "\n",
        "  cem = saque // 100\n",
        "  saque = saque % 100\n",
        "  cinquenta = saque // 50\n",
        "  saque = saque % 50\n",
        "  dez = saque // 10\n",
        "  saque = saque % 10\n",
        "  cinco = saque // 5\n",
        "  saque = saque % 5\n",
        "  um = saque // 1\n",
        "\n",
        "  if cem > 0:\n",
        "    print(f\"{cem:.0f} notas de R$ 100.\")\n",
        "  if cinquenta > 0:\n",
        "    print(f\"{cinquenta:.0f} notas de R$ 50.\")\n",
        "  if dez > 0:\n",
        "    print(f\"{dez:.0f} notas de R$ 10.\")\n",
        "  if cinco > 0:\n",
        "    print(f\"{cinco:.0f} notas de R$ 5.\")\n",
        "  if um > 0:\n",
        "    print(f\"{um:.0f} notas de R$ 1.\")  \n",
        "\n",
        "else:\n",
        "  print(\"Não é possível realizar o saque.\")  "
      ]
    }
  ],
  "metadata": {
    "colab": {
      "collapsed_sections": [],
      "name": "Lista_de_Exercícios_I.ipynb",
      "provenance": []
    },
    "kernelspec": {
      "display_name": "Python 3",
      "name": "python3"
    },
    "language_info": {
      "name": "python"
    }
  },
  "nbformat": 4,
  "nbformat_minor": 0
}
