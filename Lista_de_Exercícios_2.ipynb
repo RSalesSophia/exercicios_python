{
  "nbformat": 4,
  "nbformat_minor": 0,
  "metadata": {
    "colab": {
      "name": "Lista de Exercícios 2.ipynb",
      "provenance": [],
      "collapsed_sections": []
    },
    "kernelspec": {
      "name": "python3",
      "display_name": "Python 3"
    },
    "language_info": {
      "name": "python"
    }
  },
  "cells": [
    {
      "cell_type": "markdown",
      "metadata": {
        "id": "oGihNxFM7f0q"
      },
      "source": [
        "##Ciclos While"
      ]
    },
    {
      "cell_type": "markdown",
      "metadata": {
        "id": "X98OR17qrlJo"
      },
      "source": [
        "1 - \n",
        "Escreva um programa que solicite que o usuário digite um número inteiro par e positivo. No final, após ele ter informado vários número (um por vez) o resultado deve ser a soma de todos os valores."
      ]
    },
    {
      "cell_type": "code",
      "metadata": {
        "id": "P8h13PE4qtqZ"
      },
      "source": [
        "prompt = \"Informe um número inteiro par e positivo: \"\n",
        "soma = 0\n",
        "while (True):\n",
        "    s = input(prompt)\n",
        "    prompt = \"Informe outro número ou pare para o resultado final: \"\n",
        "    if s.lower() == 'pare':\n",
        "        break\n",
        "    elif int(s) < 0 or int(s) % 2 != 0:\n",
        "            print('Por favor, digite apenas número inteiro positivo e par.')\n",
        "    else:\n",
        "        soma += float(s)\n",
        "        continue\n",
        "print (f\"O somatório dos números é igual a {soma:.1f}.\")\n"
      ],
      "execution_count": null,
      "outputs": []
    },
    {
      "cell_type": "markdown",
      "metadata": {
        "id": "T1D9huTx4ukf"
      },
      "source": [
        "2 - Escreva um programa de jogo de adivinhação. Solicite que o usuário digite um número entre 0 e 100. Na primeira tentativa, se não for a correta, imprima uma mensagem afirmando que seu palpite está \"quente\". Para todas as demais tentativas, imprima \"quente\" se o novo número informado for estritamente próximo do número secreto e \"frio\" caso contrário. Continue solicitando para ele informar um novo número até que o número secreto seja informado."
      ]
    },
    {
      "cell_type": "code",
      "metadata": {
        "id": "hG23KmoE6Dh1"
      },
      "source": [
        "import random\n",
        "\n",
        "numero = random.randint(0,100)\n",
        "\n",
        "prompt = int(input(\"Digite um número de 0 a 100: \"))\n",
        "if prompt < 0 or prompt > 100:\n",
        "    print(\"Esse número não é válido.\")\n",
        "elif prompt == numero:\n",
        "    print(\"Você acertou o número.\")\n",
        "else:\n",
        "    print(\"Seu palpite está quente.\")\n",
        " \n",
        "while prompt != numero:\n",
        "        prompt = int(input(\"Tente novamente: \"))\n",
        "        dif = abs(prompt - numero)\n",
        "        if dif > 0 and dif <= 2:\n",
        "            print(\"Quente.\")\n",
        "            continue\n",
        "        elif dif > 2:\n",
        "            print(\"Frio.\")\n",
        "            continue\n",
        "        else:\n",
        "            print(\"Você acertou o número.\")\n",
        "        break"
      ],
      "execution_count": null,
      "outputs": []
    },
    {
      "cell_type": "markdown",
      "metadata": {
        "id": "b3f0-hb36F8U"
      },
      "source": [
        "3 - Escreva um programa que com valores inicias para as seguintes variáveis: a, b, c = 0, 0, 0 . Como resultado, imprima todas as permutações possíveis para essas três variáveis. Exemplo do resultado esperado:"
      ]
    },
    {
      "cell_type": "code",
      "metadata": {
        "id": "pLtIKADA6FYK"
      },
      "source": [
        "a = 0\n",
        "b = 0\n",
        "c = 0\n",
        "contador = []\n",
        "\n",
        "while a <=9:\n",
        "    while b <=9:\n",
        "        while c <=9:\n",
        "            numero = str(a)+str(b)+str(c)\n",
        "            contador.append(numero)\n",
        "            c +=1\n",
        "        b +=1\n",
        "        c = 0\n",
        "    a +=1\n",
        "    b = 0\n",
        "\n",
        "print(*contador, sep =\", \")"
      ],
      "execution_count": null,
      "outputs": []
    },
    {
      "cell_type": "markdown",
      "metadata": {
        "id": "pJ0Ff7Ni6VzL"
      },
      "source": [
        "4 - Elabore um programa que imprima todos os números primos de entre 0 to 100."
      ]
    },
    {
      "cell_type": "code",
      "metadata": {
        "id": "biG8oE4A6bvw"
      },
      "source": [
        "numero = 1\n",
        "\n",
        "while numero <= 100:\n",
        "    count = 0\n",
        "    i = 2\n",
        "    \n",
        "    while i <= numero//2:\n",
        "        if numero % i == 0:\n",
        "            count = count + 1\n",
        "            break\n",
        "        i = i + 1\n",
        "    if count == 0 and numero != 1:\n",
        "        print(numero)\n",
        "    numero = numero  + 1"
      ],
      "execution_count": null,
      "outputs": []
    },
    {
      "cell_type": "markdown",
      "metadata": {
        "id": "7VSkH3bw7lNA"
      },
      "source": [
        "##Listas"
      ]
    },
    {
      "cell_type": "markdown",
      "metadata": {
        "id": "5dl2giTO7cgD"
      },
      "source": [
        "1 - Faça um Programa que leia 4 notas, mostre as notas e a média na tela."
      ]
    },
    {
      "cell_type": "code",
      "metadata": {
        "id": "zqbbeRon7qQP"
      },
      "source": [
        "n = 1\n",
        "notas = []\n",
        "\n",
        "while n <= 4:\n",
        "    prompt = float(input(f\"Informe a nota  da {n}ª nota: \"))\n",
        "    notas.append(prompt)\n",
        "    n += 1\n",
        "    media = sum(notas)/4\n",
        "\n",
        "print(f\"\"\"Ao longo do ano, o aluno tirou as seguintes notas: {list(notas)}. \n",
        "Portanto, sua média foi igual a {media:.2f}. \"\"\")"
      ],
      "execution_count": null,
      "outputs": []
    },
    {
      "cell_type": "markdown",
      "metadata": {
        "id": "3fm3NCWI70yH"
      },
      "source": [
        "2 - Faça um Programa que leia 20 números inteiros e armazene-os num vetor. Armazene os números pares no vetor PAR e os números IMPARES no vetor impar. Imprima os três vetores."
      ]
    },
    {
      "cell_type": "code",
      "metadata": {
        "id": "ukA3FvR674x_"
      },
      "source": [
        "n = 1\n",
        "\n",
        "parlist = [] \n",
        "imparlist = []\n",
        "lista = []\n",
        "\n",
        "while n <=20:\n",
        "    prompt = float(input(f\"Informe um número inteiro: \"))\n",
        "    if prompt % 2 == 0:\n",
        "        parlist.append(prompt) \n",
        "    else:\n",
        "        imparlist.append(prompt) \n",
        "    n += 1\n",
        "    lista.append(prompt)\n",
        "\n",
        "print (f\"Os números da lista correspondem a: {list(lista)} \")\n",
        "print(f\"A lista de números pares corresponde a: {list(parlist)}\")\n",
        "print(f\"A lista de números pares corresponde a: {list(imparlist)}\")"
      ],
      "execution_count": null,
      "outputs": []
    },
    {
      "cell_type": "markdown",
      "metadata": {
        "id": "ykdmgLZk8OpK"
      },
      "source": [
        "3 - Faça um Programa que peça as quatro notas de 10 alunos, calcule e armazene num vetor a média de cada aluno, imprima o número de alunos com média maior ou igual a 7.0."
      ]
    },
    {
      "cell_type": "code",
      "metadata": {
        "id": "ukPoF10B8dA6"
      },
      "source": [
        "n = 1\n",
        "q = 1\n",
        "s = []\n",
        "media_geral = []\n",
        "\n",
        "while q <= 10:\n",
        "    while n <= 4:\n",
        "        notas = float(input(f\"Informe a nota  da {n}ª nota do {q}º aluno: \"))\n",
        "        s.append(notas)\n",
        "        n += 1\n",
        "    q += 1\n",
        "    media = sum(s)/4\n",
        "    media_geral.append(media)\n",
        "    s = []\n",
        "    n = 1 \n",
        "\n",
        "acima7 = []\n",
        "\n",
        "j = 0\n",
        "while j < len(media_geral):\n",
        "    if media_geral[j] >= 7:\n",
        "        acima7.append(media_geral[j])\n",
        "    j +=1\n",
        "\n",
        "contagem = len(acima7)\n",
        "\n",
        "print(f\"O número de alunos com média igual ou maior do que 7 foi igual a: {contagem}.\")\n"
      ],
      "execution_count": null,
      "outputs": []
    },
    {
      "cell_type": "markdown",
      "metadata": {
        "id": "0J4HGu029phm"
      },
      "source": [
        "4 - Elabore um programa que receba a temperatura média de cada mês do ano e armazene-as em uma lista. Após isto, calcule a média anual das temperaturas e mostre todas as temperaturas acima da média anual, e em que mês elas ocorreram (mostrar o mês por extenso: 1 – Janeiro, 2 – Fevereiro, . . . )."
      ]
    },
    {
      "cell_type": "code",
      "metadata": {
        "id": "0D9g-e2-9pvb"
      },
      "source": [
        "temperatura = []\n",
        "meses = ['Janeiro','Fevereiro','Março','Abril',  'Maio', 'Junho', 'Julho', 'Agosto', 'Setembro', 'Outubro', 'Novembro', 'Dezembro']\n",
        "acimaMedia = []\n",
        "abaixoMedia = []\n",
        "\n",
        "n = 0\n",
        "\n",
        "while n <= 11:\n",
        "    prompt = float(input(f\"Informe a temperatura média do mês {meses[n]}: \"))\n",
        "    temperatura.append(prompt)\n",
        "    n += 1\n",
        "\n",
        "media = sum(temperatura)/len(meses)\n",
        "\n",
        "j = 0\n",
        "while j <= 11:\n",
        "    if temperatura[j] > media:\n",
        "        abaixoMedia.append(meses[j])\n",
        "    else:\n",
        "        acimaMedia.append(meses[j])\n",
        "    j += 1\n",
        "\n",
        "print(f\"A média anual foi {media:.2f} C.\")\n",
        "print(f\"\"\"Os meses que tiveram temperatura abaixo da média foram:\n",
        "{abaixoMedia}.\"\"\")\n",
        "print(f\"\"\"Os meses que tiveram temperatura acima da média foram:\n",
        "{acimaMedia}.\"\"\")"
      ],
      "execution_count": null,
      "outputs": []
    },
    {
      "cell_type": "markdown",
      "metadata": {
        "id": "Qs2MKHKy9_1K"
      },
      "source": [
        "5 - Utilizando listas faça um programa que faça 5 perguntas para uma pessoa sobre um crime. As perguntas são: \"Telefonou para a vítima?\" \"Esteve no local do crime?\" \"Mora perto da vítima?\" \"Devia para a vítima?\" \"Já trabalhou com a vítima?\" O programa deve no final emitir uma classificação sobre a participação da pessoa no crime. Se a pessoa responder positivamente a 2 questões ela deve ser classificada como \"Suspeita\", entre 3 e 4 como \"Cúmplice\" e 5 como \"Assassino\". Caso contrário, ele será classificado como \"Inocente\"."
      ]
    },
    {
      "cell_type": "code",
      "metadata": {
        "id": "cTS2o39x-APH"
      },
      "source": [
        "telefone = input(\"Você telefonou para a vítima? Responda com Sim ou Não. \")\n",
        "local = input(\"Você esteve no local do crime? Responda com Sim ou Não. \")\n",
        "proximo = input(\"Você mora perto da vítima? Responda com Sim ou Não. \")\n",
        "dever = input(\"Você devia para a vítima? Responda com Sim ou Não. \")\n",
        "trabalho = input(\"Você já trabalhou com a vítima? Responda com Sim ou Não. \")\n",
        "\n",
        "lista = [telefone, local, proximo, dever, trabalho]\n",
        "\n",
        "contagem = lista.count(\"Sim\")\n",
        "\n",
        "if contagem == 2:\n",
        "    print(\"Você é suspeito.\")\n",
        "elif contagem >= 3 and contagem <= 4:\n",
        "    print(\"Você é um cúmplice.\")\n",
        "elif contagem == 5:\n",
        "    print(\"Você é o assassino.\")\n",
        "else:\n",
        "    print(\"Você é inocente.\")"
      ],
      "execution_count": null,
      "outputs": []
    },
    {
      "cell_type": "markdown",
      "metadata": {
        "id": "7h6Loof4-e8w"
      },
      "source": [
        "6- Faça um programa que leia um número indeterminado de valores, correspondentes a notas, encerrando a entrada de dados quando for informado um valor igual a -1 (que não deve ser armazenado). Após esta entrada de dados, faça:\n",
        "\n",
        "* Mostre a quantidade de valores que foram lidos;\n",
        "* Exiba todos os valores na ordem em que foram informados, um ao lado do outro;\n",
        "* Exiba todos os valores na ordem inversa à que foram informados, um abaixo do outro;\n",
        "* Calcule e mostre a soma dos valores;\n",
        "* Calcule e mostre a média dos valores;\n",
        "* Calcule e mostre a quantidade de valores acima da média calculada;\n",
        "* Calcule e mostre a quantidade de valores abaixo de sete;\n",
        "* Encerre o programa com uma mensagem;"
      ]
    },
    {
      "cell_type": "code",
      "metadata": {
        "id": "Q3lRDRu1-teo"
      },
      "source": [
        "notas = []\n",
        "\n",
        "while True:\n",
        "    prompt= int(input(\"Digite as notas ou digite -1 para sair: \"))\n",
        "    if prompt == -1:\n",
        "        break\n",
        "    else:\n",
        "        notas.append(prompt)\n",
        "\n",
        "#Mostre a quantidade de valores que foram lidos;\n",
        "contagem = len(notas)\n",
        "print(f\"Foram lidos pelo programa {contagem} números.\")\n",
        "\n",
        "#Exiba todos os valores na ordem em que foram informados, um ao lado do outro;\n",
        "print(\"A ordem a qual os números foram informados segue abaixo:\")\n",
        "print(*notas, sep = \", \")\n",
        "\n",
        "#Exiba todos os valores na ordem inversa à que foram informados, um abaixo do outro;\n",
        "notas.reverse()\n",
        "\n",
        "print(\"A ordem inversa a qual os números foram informados segue abaixo:\")\n",
        "print(*notas, sep = \"\\n\")\n",
        "#Calcule e mostre a soma dos valores;\n",
        "soma = sum(notas)\n",
        "print(soma)\n",
        "\n",
        "#Calcule e mostre a média dos valores;\n",
        "media = sum(notas)/len(notas)\n",
        "print(f\"A média dos valores informados foi igual a: {media:.2f}.\")\n",
        "\n",
        "\n",
        "#Calcule e mostre a quantidade de valores acima da média calculada;\n",
        "#Calcule e mostre a quantidade de valores abaixo de sete;\n",
        "\n",
        "acimaMedia = []\n",
        "abaixo7 = []\n",
        "\n",
        "j = 0\n",
        "while j < (len(notas)) :\n",
        "    if notas[j] > media:\n",
        "        acimaMedia.append(notas[j])\n",
        "    if notas[j] < 7:\n",
        "        abaixo7.append(notas[j])\n",
        "    j +=1\n",
        "\n",
        "c = len(acimaMedia)\n",
        "a = len(abaixo7)\n",
        "\n",
        "print(f\"Dos valores informados, {c} deles foi/foram acima da média calculada.\")\n",
        "print(F\"Dos valores informados, {a} deles foi/foram abaixo de sete.\")\n",
        "\n",
        "#Encerre o programa com uma mensagem;\n",
        "print(\"Essas são as informações gerais dos dados fornecidos.\")"
      ],
      "execution_count": null,
      "outputs": []
    },
    {
      "cell_type": "markdown",
      "metadata": {
        "id": "ifOD7BmV-tHX"
      },
      "source": [
        "7 - Utilize uma lista para resolver o problema a seguir. Uma empresa paga seus vendedores com base em comissões. O vendedor recebe 200 reais por semana mais 9 por cento de suas vendas brutas daquela semana. Por exemplo, um vendedor que teve vendas brutas de 3000 reais em uma semana recebe 200 reais mais 9 por cento de 3000 reais, ou seja, um total de 470 reais. Escreva um programa (usando um lista de contadores) que determine quantos vendedores receberam salários nos seguintes intervalos de valores:\n"
      ]
    },
    {
      "cell_type": "code",
      "metadata": {
        "id": "zV8FUFJH_LQc"
      },
      "source": [
        "valor = []\n",
        "\n",
        "interv_1 = []\n",
        "interv_2 = []\n",
        "interv_3 = []\n",
        "interv_4 = []\n",
        "interv_5 = []\n",
        "interv_6 = []\n",
        "interv_7 = []\n",
        "interv_8 = []\n",
        "interv_9 = []\n",
        "\n",
        "while True:\n",
        "    s = input(\"Informe o valor das vendas do vendedor ou q para o resultado final: \")\n",
        "    if s.lower() == \"q\":\n",
        "        break\n",
        "    else:\n",
        "        s = int(s)\n",
        "        soma = s*0.09 + 200 \n",
        "        valor.append(soma)\n",
        "\n",
        "print(valor)\n",
        "\n",
        "j = 0\n",
        "while j < len(valor):\n",
        "    if valor[j] >= 200 and valor[j] <= 299:\n",
        "        interv_1.append(valor[j])\n",
        "    elif valor[j] >= 300 and valor[j] <= 399:\n",
        "        interv_2.append(valor[j])\n",
        "    elif valor[j] >= 400 and valor[j] <= 499:\n",
        "        interv_3.append(valor[j])\n",
        "    elif valor[j] >= 500 and valor[j] <= 599:\n",
        "        interv_4.append(valor[j])\n",
        "    elif valor[j] >= 600 and valor[j] <= 699:\n",
        "        interv_5.append(valor[j])\n",
        "    elif valor[j] >= 700 and valor[j] <= 799:\n",
        "        interv_6.append(valor[j])\n",
        "    elif valor[j] >= 800 and valor[j] <= 899:\n",
        "        interv_7.append(valor[j])\n",
        "    elif valor[j] >= 900 and valor[j] <= 999:\n",
        "        interv_8.append(valor[j])\n",
        "    else:\n",
        "        valor[j] >= 1000\n",
        "        interv_9.append(valor[j])\n",
        "    j += 1\n",
        "\n",
        "print(f\"O número de vendedores que recebem salários entre 200 e 299 foi igual a: {len(interv_1)}.\")\n",
        "print(f\"O número de vendedores que recebem salários entre 300 e 399 foi igual a: {len(interv_2)}.\")\n",
        "print(f\"O número de vendedores que recebem salários entre 400 e 499 foi igual a: {len(interv_3)}.\")\n",
        "print(f\"O número de vendedores que recebem salários entre 500 e 599 foi igual a: {len(interv_4)}.\")\n",
        "print(f\"O número de vendedores que recebem salários entre 600 e 699 foi igual a: {len(interv_5)}.\")\n",
        "print(f\"O número de vendedores que recebem salários entre 700 e 799 foi igual a: {len(interv_6)}.\")\n",
        "print(f\"O número de vendedores que recebem salários entre 800 e 899 foi igual a: {len(interv_7)}.\")\n",
        "print(f\"O número de vendedores que recebem salários entre 900 e 999 foi igual a: {len(interv_8)}.\")\n",
        "print(f\"O número de vendedores que recebem salários entre que 1000: {len(interv_9)}.\")"
      ],
      "execution_count": null,
      "outputs": []
    },
    {
      "cell_type": "markdown",
      "metadata": {
        "id": "E17W4HccCIbH"
      },
      "source": [
        "8 - Uma grande emissora de televisão quer fazer uma enquete entre os seus telespectadores para saber qual o melhor jogador após cada jogo. Para isto, faz-se necessário o desenvolvimento de um programa, que será utilizado pelas telefonistas, para a computação dos votos. Sua equipe foi contratada para desenvolver este programa, utilizando a linguagem de programação Python. Para computar cada voto, a telefonista digitará um número, entre 1 e 23, correspondente ao número da camisa do jogador. Um número de jogador igual zero, indica que a votação foi encerrada. Se um número inválido for digitado, o programa deve ignorá-lo, mostrando uma breve mensagem de aviso, e voltando a pedir outro número. Após o final da votação, o programa deverá exibir:\n",
        "\n",
        "* O total de votos computados;\n",
        "* Os númeos e respectivos votos de todos os jogadores que receberam votos;\n",
        "* O percentual de votos de cada um destes jogadores;\n",
        "* O número do jogador escolhido como o melhor jogador da partida, juntamente com o número de votos e o percentual de votos dados a ele. Observe que os votos inválidos e o zero final não devem ser computados como votos. O resultado aparece ordenado pelo número do jogador. O programa deve fazer uso de arrays. O programa deverá executar o cálculo do percentual de cada jogador através de uma função. Esta função receberá dois parâmetros: o número de votos de um jogador e o total de votos. A função calculará o percentual e retornará o valor calculado. Abaixo segue uma tela de exemplo. O disposição das informações deve ser o mais próxima possível ao exemplo. Os dados são fictícios e podem mudar a cada execução do programa. "
      ]
    },
    {
      "cell_type": "code",
      "metadata": {
        "id": "5lzesi6GCNN0"
      },
      "source": [
        "votos = []\n",
        "\n",
        "\n",
        "print(\"Enquete: Quem foi o melhor jogador?\")\n",
        "\n",
        "\n",
        "while True:\n",
        "    prompt = int(input(\"Número do jogador (0 = fim): \"))\n",
        "    if prompt == 0:\n",
        "        break\n",
        "    elif prompt < 0 or prompt > 23:\n",
        "        print(\"Informe um valor entre 1 e 23 ou 0 para sair!\")\n",
        "    else: \n",
        "        votos.append(prompt)\n",
        "\n",
        "contagem = []\n",
        "\n",
        "i = 1\n",
        "while i <= 23:\n",
        "    contar = votos.count(i)\n",
        "    contagem.append(contar)\n",
        "    i +=1\n",
        "\n",
        "proporcao = []\n",
        "\n",
        "p = 0\n",
        "while p <= 22:\n",
        "    s = (contagem[p]/len(votos))*100\n",
        "    proporcao.append(s)\n",
        "    p += 1\n",
        "\n",
        "\n",
        "\n",
        "print(\"Resultado da votação: \\n\")\n",
        "\n",
        "print(f\"Foram computados {len(votos)} votos. \\n\")\n",
        "\n",
        "print(\"Jogador     Votos     %\")\n",
        "\n",
        "j = 0\n",
        "while j <= 22:\n",
        "    if contagem[j] > 0:\n",
        "        print(f\"{j+1:3}{contagem[j]:10}{proporcao[j]:10.2f}%.\")\n",
        "    j += 1\n",
        "\n",
        "\n",
        "melhor = []\n",
        "total = []\n",
        "prop = []\n",
        "\n",
        "z = 0\n",
        "while z <=22:\n",
        "    if contagem[z] == max(contagem):\n",
        "        melhor.append(z+1)\n",
        "        total.append(contagem[z])\n",
        "        prop.append(proporcao[z])\n",
        "    z +=1\n",
        "\n",
        "\n",
        "if len(melhor) >= 2:\n",
        "    print(f\"Os melhores jogadores foram os números {melhor}, com {total} votos, correspondendo a {prop}% do total de votos.\")\n",
        "\n",
        "else:\n",
        "    print((\"O melhor jogador foi o número {}, com {} votos, correspondendo a {:.2f}% do total de votos.\").format(*melhor, *total, *prop))"
      ],
      "execution_count": null,
      "outputs": []
    },
    {
      "cell_type": "markdown",
      "metadata": {
        "id": "-Lp6Epg6C6oO"
      },
      "source": [
        "9 e 10 - Uma empresa de pesquisas precisa tabular os resultados da seguinte enquete feita a um grande quantidade de organizações. Você foi contratado para desenvolver um programa que leia o resultado da enquete e informe ao final o resultado da mesma. O programa deverá ler os valores até ser informado o valor 0, que encerra a entrada dos dados. Não deverão ser aceitos valores além dos válidos para o programa (0 a 6). Os valores referentes a cada uma das opções devem ser armazenados num vetor. Após os dados terem sido completamente informados, o programa deverá calcular a percentual de cada um dos concorrentes e informar o vencedor da enquete. "
      ]
    },
    {
      "cell_type": "code",
      "metadata": {
        "id": "_3RXkX8yDBpP"
      },
      "source": [
        "votos = []\n",
        "\n",
        "print(\"Qual o melhor Sistema Operacional para uso em servidores? \\n\")\n",
        "\n",
        "print(\"\"\"Informe 1 para Windows Server;\n",
        "Informe 2 para Unix;\n",
        "Informe 3 para Linux;\n",
        "Informe 4 para Netware;\n",
        "Informe 5 para Mac OS;\n",
        "Informe 6 para Outro. \\n\"\"\")\n",
        "\n",
        "#Computando os votos:\n",
        "while True:\n",
        "    prompt = int(input(\"Digite a sua resposta ou 0 para sair: \"))\n",
        "    if prompt == 0:\n",
        "        break\n",
        "    elif prompt < 0 or prompt > 7:\n",
        "        print(\"Informe um valor entre 0 e 6 ou 0 para sair!\")\n",
        "    else: \n",
        "        votos.append(prompt)\n",
        "\n",
        "#Contagem de votos:\n",
        "contagem = []\n",
        "\n",
        "i = 1\n",
        "while i <= 6:\n",
        "    contar = votos.count(i)\n",
        "    contagem.append(contar)\n",
        "    i +=1\n",
        "\n",
        "#Para calcular a proporção de votos:\n",
        "proporcao = []\n",
        "\n",
        "p = 0\n",
        "while p < len(contagem):\n",
        "    s = (contagem[p]/len(votos))*100\n",
        "    proporcao.append(s)\n",
        "    p += 1\n",
        "\n",
        "print(\"\\n\")\n",
        "\n",
        "sistemas = [\"Windows\", \"Unix\", \"Linux\", \"Netware\", \"Mac OS\", \"Outro\"]\n",
        "notas = [1,2,3,4,5,6]\n",
        "\n",
        "print(\"Sistema Operacional\", \"Votos\", \"%\", sep= \"\\t\")\n",
        "print(\"---------------------\", \"------\", \"---\", sep= \"\\t\")\n",
        "\n",
        "#Tabulação \n",
        "z = 0\n",
        "while z < len(sistemas):\n",
        "    print((\"{:10}{:18}{:8.2f}%\").format(sistemas[z],contagem[z], proporcao[z]))\n",
        "    z+= 1\n",
        "\n",
        "print(\"---------------------\", \"------\", sep = \"\\t\")\n",
        "print(f\"Total{len(contagem):23}\")\n",
        "\n",
        "\n",
        "melhor = []\n",
        "total = []\n",
        "prop = []\n",
        "\n",
        "z = 0\n",
        "while z < len(contagem):\n",
        "    if contagem[z] == max(contagem):\n",
        "        melhor.append(sistemas[z])\n",
        "        total.append(contagem[z])\n",
        "        prop.append(proporcao[z])\n",
        "    z +=1\n",
        "\n",
        "if len(melhor) >= 2:\n",
        "    print(f\"Os Sistemas Operacionais mais votado foram {melhor}, com {total} votos, correspondendo a {sum(prop):2f2}% do total de votos.\")\n",
        "\n",
        "else:\n",
        "    print((\"O Sistema Operacional mais votado foi {}, com {} votos, correspondendo a {:.2f}% do total de votos.\").format(*melhor, *total, *prop))"
      ],
      "execution_count": null,
      "outputs": []
    },
    {
      "cell_type": "markdown",
      "metadata": {
        "id": "xRTAhDEeGFS3"
      },
      "source": [
        "11 - As Organizações Tabajara resolveram dar um abono aos seus colaboradores em reconhecimento ao bom resultado alcançado durante o ano que passou. Para isto contratou você para desenvolver a aplicação que servirá como uma projeção de quanto será gasto com o pagamento deste abono. Após reuniões envolvendo a diretoria executiva, a diretoria financeira e os representantes do sindicato laboral, chegou-se a seguinte forma de cálculo:\n",
        "Cada funcionário receberá o equivalente a 20% do seu salário bruto de dezembro;\n",
        "O piso do abono será de 100 reais, isto é, aqueles funcionários cujo salário for muito baixo, recebem este valor mínimo;\n",
        "Neste momento, não se deve ter nenhuma preocupação com colaboradores com tempo menor de casa, descontos, impostos ou outras particularidades.\n",
        "\n",
        "Seu programa deverá permitir a digitação do salário de um número indefinido (desconhecido) de salários. Um valor de salário igual a 0 (zero) encerra a digitação. Após a entrada de todos os dados o programa deverá calcular o valor do abono concedido a cada colaborador, de acordo com a regra definida acima. Ao final, o programa deverá apresentar:\n",
        "\n",
        "* O salário de cada funcionário, juntamente com o valor do abono; \n",
        "* O número total de funcionário processados; \n",
        "* O valor total a ser gasto com o pagamento do abono; \n",
        "* O número de funcionário que receberá o valor mínimo de 100 reais; \n",
        "* O maior valor pago como abono."
      ]
    },
    {
      "cell_type": "code",
      "metadata": {
        "id": "Tr-hUn9dGNOv"
      },
      "source": [
        "salario = []\n",
        "abono = []\n",
        "minimo = []\n",
        "\n",
        "while True:\n",
        "    prompt = float(input(\"Digite o valor do salário do colaborador ou 0 para sair: \"))\n",
        "    if prompt == 0:\n",
        "        break\n",
        "    else:\n",
        "        salario.append(prompt)\n",
        "        valor = prompt*0.20\n",
        "        if valor < 100:\n",
        "            valor = 100\n",
        "        abono.append(valor)\n",
        "\n",
        "j = 0\n",
        "while j < len(salario):\n",
        "    if salario[j] <= 500:\n",
        "        minimo.append(salario[j])\n",
        "    j += 1\n",
        "\n",
        "print(\"\\n\")\n",
        "print(\"Projeção de Gastos com Abono\")\n",
        "print(\"============================ \\n\")\n",
        "\n",
        "print(\"Salário\", \"- Abono\")\n",
        "\n",
        "i = 0\n",
        "while i < len(salario):\n",
        "    print(f\"R${salario[i]:.2f} - R${abono[i]:.2f}\")\n",
        "    i += 1\n",
        "\n",
        "print(\"\\n\")\n",
        "print(f\"Foram processados {len(salario)} colaboradores.\")\n",
        "print(f\"Total gasto com abonos: R$ {sum(abono):.2f}.\")\n",
        "print(f\"Valor mínimo foi pago a {len(minimo)} colaboradores.\")\n",
        "if len(salario) > 1:\n",
        "  print(f\"Maior valor de abono pago: R$ {max(abono):.2f}.\")\n",
        "if len(salario) == 1:\n",
        "  print(\"Maior valor de abono pago: R$ {}.\".format(*abono))"
      ],
      "execution_count": null,
      "outputs": []
    },
    {
      "cell_type": "markdown",
      "metadata": {
        "id": "ecLULKS-wP9b"
      },
      "source": [
        "\n",
        "12 - Faça um programa que carregue uma lista com os modelos de cinco carros (exemplo de modelos: FUSCA, GOL, VECTRA etc). Carregue uma outra lista com o consumo desses carros, isto é, quantos quilômetros cada um desses carros faz com um litro de combustível. Calcule e mostre:\n",
        "\n",
        "* O modelo do carro mais econômico;\n",
        "* Quantos litros de combustível cada um dos carros cadastrados consome para percorrer uma distância de 1000 quilômetros e quanto isto custará, considerando um que a gasolina custe 2,25 reais o litro.\n",
        "\n",
        "\n"
      ]
    },
    {
      "cell_type": "code",
      "metadata": {
        "id": "drGfzvQwHiZR"
      },
      "source": [
        "carro = []\n",
        "veiculo = [1,2,3,4,5]\n",
        "\n",
        "kms = []\n",
        "\n",
        "q = 1\n",
        "while q <=5:\n",
        "    prompt = input(\"Informe o modelo do carro: \")\n",
        "    carro.append(prompt)\n",
        "    prompt_2 = float(input(\"Informe quantos kms faz por litro: \"))\n",
        "    kms.append(prompt_2)\n",
        "    q +=1\n",
        "\n",
        "\n",
        "print(\"Comparativo de Consumo de Combustível \\n\")\n",
        "\n",
        "i = 0\n",
        "while i < len(carro):\n",
        "    print(f\"Veículo {veiculo[i]} \\nNome: {carro[i]} \\nkm por litro: {kms[i]} \\n\")\n",
        "    i += 1\n",
        "\n",
        "print(\"Relatório Final\")\n",
        "\n",
        "s = []\n",
        "c = []\n",
        "\n",
        "j = 0\n",
        "while j < len(carro):\n",
        "    valor = 1000/kms[j]\n",
        "    custo = valor*2.25\n",
        "    s.append(valor)\n",
        "    c.append(custo)\n",
        "    j +=1\n",
        "    \n",
        "n = 0\n",
        "while n < len(carro):\n",
        "    print(f\"{veiculo[n]} - {carro[n]:10} - {kms[n]:5.1f} - {s[n]:.2f} litros - R${c[n]:.2f}\")\n",
        "    n += 1\n",
        "\n",
        "minimo = []\n",
        "\n",
        "z = 0\n",
        "while z < len(carro):\n",
        "    if s[z] == min(s):\n",
        "        minimo.append(carro[z])\n",
        "    z += 1\n",
        "\n",
        "print((\"O menor consumo é do {}.\").format(*minimo))"
      ],
      "execution_count": null,
      "outputs": []
    }
  ]
}